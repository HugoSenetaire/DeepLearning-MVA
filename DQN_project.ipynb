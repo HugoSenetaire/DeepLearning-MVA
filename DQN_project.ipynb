{
  "nbformat": 4,
  "nbformat_minor": 0,
  "metadata": {
    "kernelspec": {
      "display_name": "Python 3",
      "language": "python",
      "name": "python3"
    },
    "language_info": {
      "codemirror_mode": {
        "name": "ipython",
        "version": 3
      },
      "file_extension": ".py",
      "mimetype": "text/x-python",
      "name": "python",
      "nbconvert_exporter": "python",
      "pygments_lexer": "ipython3",
      "version": "3.5.7"
    },
    "colab": {
      "name": "DQN_project_MVA_Hugo.ipynb",
      "provenance": [],
      "collapsed_sections": [],
      "toc_visible": true
    }
  },
  "cells": [
    {
      "cell_type": "markdown",
      "metadata": {
        "id": "ZIfr6PirMuW5",
        "colab_type": "text"
      },
      "source": [
        "**You may need to install [OpenCV](https://pypi.python.org/pypi/opencv-python) and [scikit-video](http://www.scikit-video.org/stable/).**"
      ]
    },
    {
      "cell_type": "code",
      "metadata": {
        "id": "0N2XX279NMQs",
        "colab_type": "code",
        "outputId": "132df192-47b4-4249-9f3b-57182cf27788",
        "colab": {
          "base_uri": "https://localhost:8080/",
          "height": 84
        }
      },
      "source": [
        "pip install scikit-video"
      ],
      "execution_count": 40,
      "outputs": [
        {
          "output_type": "stream",
          "text": [
            "Requirement already satisfied: scikit-video in /usr/local/lib/python3.6/dist-packages (1.1.11)\n",
            "Requirement already satisfied: pillow in /usr/local/lib/python3.6/dist-packages (from scikit-video) (6.2.2)\n",
            "Requirement already satisfied: numpy in /usr/local/lib/python3.6/dist-packages (from scikit-video) (1.17.5)\n",
            "Requirement already satisfied: scipy in /usr/local/lib/python3.6/dist-packages (from scikit-video) (1.4.1)\n"
          ],
          "name": "stdout"
        }
      ]
    },
    {
      "cell_type": "code",
      "metadata": {
        "id": "DXU5d_hOMuW8",
        "colab_type": "code",
        "colab": {}
      },
      "source": [
        "import keras\n",
        "import numpy as np\n",
        "import io\n",
        "import base64\n",
        "from IPython.display import HTML\n",
        "import skvideo.io\n",
        "import cv2\n",
        "import json\n",
        "import random\n",
        "from keras.models import Sequential,model_from_json\n",
        "from keras.layers.core import Dense\n",
        "from keras.optimizers import sgd,adam\n",
        "from keras.layers import Conv2D, MaxPooling2D, Activation, AveragePooling2D,Reshape,BatchNormalization\n",
        "import matplotlib.pyplot as plt"
      ],
      "execution_count": 0,
      "outputs": []
    },
    {
      "cell_type": "markdown",
      "metadata": {
        "id": "IcJa5COrMuXB",
        "colab_type": "text"
      },
      "source": [
        "# MiniProject on Deep Reinforcement Learning"
      ]
    },
    {
      "cell_type": "markdown",
      "metadata": {
        "id": "z24AsGSoMuXC",
        "colab_type": "text"
      },
      "source": [
        "__Notations__: $E_p$ is the expectation under probability $p$. Please justify each of your answer and widely comment your code."
      ]
    },
    {
      "cell_type": "markdown",
      "metadata": {
        "id": "zqFfvJo-MuXD",
        "colab_type": "text"
      },
      "source": [
        "# Context"
      ]
    },
    {
      "cell_type": "markdown",
      "metadata": {
        "id": "XDxU1M1yMuXE",
        "colab_type": "text"
      },
      "source": [
        "In a reinforcement learning algorithm, we modelize each step $t$ as an action $a_t$ obtained from a state $s_t$, i.e. $\\{(a_{t},s_{t})_{t\\leq T}\\}$ having the Markov property. We consider a discount factor $\\gamma \\in [0,1]$ that ensures convergence. The goal is to find among all the policies $\\pi$, one that maximizes the expected reward:\n",
        "\n",
        "\\begin{equation*}\n",
        "R(\\pi)=\\sum_{t\\leq T}E_{p^{\\pi}}[\\gamma^t r(s_{t},a_{t})] \\> ,\n",
        "\\end{equation*}\n",
        "\n",
        "where: \n",
        "\\begin{equation*}p^{\\pi}(a_{0},a_{1},s_{1},...,a_{T},s_{T})=p(a_{0})\\prod_{t=1}^{T}\\pi(a_{t}|s_{t})p(s_{t+1}|s_{t},a_{t}) \\> .\n",
        "\\end{equation*}\n",
        "\n",
        "We note the $Q$-function:\n",
        "\n",
        "\\begin{equation*}Q^\\pi(s,a)=E_{p^{\\pi}}[\\sum_{t\\leq T}\\gamma^{t}r(s_{t},a_{t})|s_{0}=s,a_{0}=a] \\> .\n",
        "\\end{equation*}\n",
        "\n",
        "Thus, the optimal Q function is:\n",
        "\\begin{equation*}\n",
        "Q^*(s,a)=\\max_{\\pi}Q^\\pi(s,a) \\> .\n",
        "\\end{equation*}\n",
        "\n",
        "In this project, we will apply the deep reinforcement learning techniques to a simple game: an agent will have to learn from scratch a policy that will permit it maximizing a reward."
      ]
    },
    {
      "cell_type": "markdown",
      "metadata": {
        "id": "AwHDgSBnMuXG",
        "colab_type": "text"
      },
      "source": [
        "## The environment, the agent and the game"
      ]
    },
    {
      "cell_type": "markdown",
      "metadata": {
        "id": "QJglzddpMuXJ",
        "colab_type": "text"
      },
      "source": [
        "### The environment"
      ]
    },
    {
      "cell_type": "markdown",
      "metadata": {
        "id": "XrWEdZkQMuXK",
        "colab_type": "text"
      },
      "source": [
        "```Environment``` is an abstract class that represents the states, rewards, and actions to obtain the new state."
      ]
    },
    {
      "cell_type": "code",
      "metadata": {
        "id": "aVKHkL8FMuXL",
        "colab_type": "code",
        "colab": {}
      },
      "source": [
        "class Environment(object):\n",
        "    def __init__(self):\n",
        "        pass\n",
        "\n",
        "    def act(self, act):\n",
        "        \"\"\"\n",
        "        One can act on the environment and obtain its reaction:\n",
        "        - the new state\n",
        "        - the reward of the new state\n",
        "        - should we continue the game?\n",
        "\n",
        "        :return: state, reward, game_over\n",
        "        \"\"\"\n",
        "        pass\n",
        "\n",
        "\n",
        "    def reset(self):\n",
        "        \"\"\"\n",
        "        Reinitialize the environment to a random state and returns\n",
        "        the original state\n",
        "\n",
        "        :return: state\n",
        "        \"\"\"\n",
        "        pass\n",
        "    \n",
        "    def draw(self):\n",
        "        \"\"\"\n",
        "        Visualize in the console or graphically the current state\n",
        "        \"\"\"\n",
        "        pass"
      ],
      "execution_count": 0,
      "outputs": []
    },
    {
      "cell_type": "markdown",
      "metadata": {
        "id": "P7hLdzASMuXP",
        "colab_type": "text"
      },
      "source": [
        "The method ```act``` allows to act on the environment at a given state $s_t$ (stored internally), via action $a_t$. The method will return the new state $s_{t+1}$, the reward $r(s_{t},a_{t})$ and determines if $t\\leq T$ (*game_over*).\n",
        "\n",
        "The method ```reset``` simply reinitializes the environment to a random state $s_0$.\n",
        "\n",
        "The method ```draw``` displays the current state $s_t$ (this is useful to check the behavior of the Agent).\n",
        "\n",
        "We modelize $s_t$ as a tensor, while $a_t$ is an integer."
      ]
    },
    {
      "cell_type": "markdown",
      "metadata": {
        "id": "IqVPci0tMuXQ",
        "colab_type": "text"
      },
      "source": [
        "### The Agent"
      ]
    },
    {
      "cell_type": "markdown",
      "metadata": {
        "id": "WxvnYewhMuXR",
        "colab_type": "text"
      },
      "source": [
        "The goal of the ```Agent``` is to interact with the ```Environment``` by proposing actions $a_t$ obtained from a given state $s_t$ to attempt to maximize its __reward__ $r(s_t,a_t)$. We propose the following abstract class:"
      ]
    },
    {
      "cell_type": "code",
      "metadata": {
        "id": "b25J7UsJMuXR",
        "colab_type": "code",
        "colab": {}
      },
      "source": [
        "class Agent(object):\n",
        "    def __init__(self, epsilon=0.1, n_action=4):\n",
        "        self.epsilon = epsilon\n",
        "        self.n_action = n_action\n",
        "    \n",
        "    def set_epsilon(self,e):\n",
        "        self.epsilon = e\n",
        "\n",
        "    def act(self,s,train=True):\n",
        "        \"\"\" This function should return the next action to do:\n",
        "        an integer between 0 and 4 (not included) with a random exploration of epsilon\"\"\"\n",
        "        if train:\n",
        "            if np.random.rand() <= self.epsilon:\n",
        "                a = np.random.randint(0, self.n_action, size=1)[0]\n",
        "            else:\n",
        "                a = self.learned_act(s)\n",
        "        else: # in some cases, this can improve the performance.. remove it if poor performances\n",
        "            a = self.learned_act(s)\n",
        "\n",
        "        return a\n",
        "\n",
        "    def learned_act(self,s):\n",
        "        \"\"\" Act via the policy of the agent, from a given state s\n",
        "        it proposes an action a\"\"\"\n",
        "        pass\n",
        "\n",
        "    def reinforce(self, s, n_s, a, r, game_over_):\n",
        "        \"\"\" This function is the core of the learning algorithm. \n",
        "        It takes as an input the current state s_, the next state n_s_\n",
        "        the action a_ used to move from s_ to n_s_ and the reward r_.\n",
        "        \n",
        "        Its goal is to learn a policy.\n",
        "        \"\"\"\n",
        "        pass\n",
        "\n",
        "    def save(self):\n",
        "        \"\"\" This function returns basic stats if applicable: the\n",
        "        loss and/or the model\"\"\"\n",
        "        pass\n",
        "\n",
        "    def load(self):\n",
        "        \"\"\" This function allows to restore a model\"\"\"\n",
        "        pass"
      ],
      "execution_count": 0,
      "outputs": []
    },
    {
      "cell_type": "markdown",
      "metadata": {
        "id": "OYPUp7QtMuXW",
        "colab_type": "text"
      },
      "source": [
        "***\n",
        "__Question 1__:\n",
        "Explain the function act. Why is ```epsilon``` essential?"
      ]
    },
    {
      "cell_type": "markdown",
      "metadata": {
        "id": "aUeYgQq-MuXX",
        "colab_type": "text"
      },
      "source": [
        ">$\\epsilon$ is the probability of exploration. Without it the agent would act on the knowledge it has accumulated so far alone. There is the possibility that the agent will not see configurations that would give optimal results and would never learn a better policy.\n",
        "\n",
        "\n",
        ">If $\\epsilon$ is close to 1, the agents acts randomly without any knowledge. An intermediate valuee of $\\epsilon$ enables the agent to keep exploring and to use its knowledge to gain better rewards. "
      ]
    },
    {
      "cell_type": "markdown",
      "metadata": {
        "id": "UG77lj9VMuXY",
        "colab_type": "text"
      },
      "source": [
        "***\n",
        "### The Game"
      ]
    },
    {
      "cell_type": "markdown",
      "metadata": {
        "id": "ZPWCwpWiMuXa",
        "colab_type": "text"
      },
      "source": [
        "The ```Agent``` and the ```Environment``` work in an interlaced way as in the following (take some time to understand this code as it is the core of the project)\n",
        "\n",
        "```python\n",
        "\n",
        "epoch = 300\n",
        "env = Environment()\n",
        "agent = Agent()\n",
        "\n",
        "\n",
        "# Number of won games\n",
        "score = 0\n",
        "loss = 0\n",
        "\n",
        "\n",
        "for e in range(epoch):\n",
        "    # At each epoch, we restart to a fresh game and get the initial state\n",
        "    state = env.reset()\n",
        "    # This assumes that the games will end\n",
        "    game_over = False\n",
        "\n",
        "    win = 0\n",
        "    lose = 0\n",
        "    \n",
        "    while not game_over:\n",
        "        # The agent performs an action\n",
        "        action = agent.act(state)\n",
        "\n",
        "        # Apply an action to the environment, get the next state, the reward\n",
        "        # and if the games end\n",
        "        prev_state = state\n",
        "        state, reward, game_over = env.act(action)\n",
        "\n",
        "        # Update the counters\n",
        "        if reward > 0:\n",
        "            win = win + reward\n",
        "        if reward < 0:\n",
        "            lose = lose -reward\n",
        "\n",
        "        # Apply the reinforcement strategy\n",
        "        loss = agent.reinforce(prev_state, state,  action, reward, game_over)\n",
        "\n",
        "    # Save as a mp4\n",
        "    if e % 10 == 0:\n",
        "        env.draw(e)\n",
        "\n",
        "    # Update stats\n",
        "    score += win-lose\n",
        "\n",
        "    print(\"Epoch {:03d}/{:03d} | Loss {:.4f} | Win/lose count {}/{} ({})\"\n",
        "          .format(e, epoch, loss, win, lose, win-lose))\n",
        "    agent.save()\n",
        "```"
      ]
    },
    {
      "cell_type": "markdown",
      "metadata": {
        "id": "PzUv-4L-MuXb",
        "colab_type": "text"
      },
      "source": [
        "# The game, *eat cheese*"
      ]
    },
    {
      "cell_type": "markdown",
      "metadata": {
        "id": "M0k62RdvMuXc",
        "colab_type": "text"
      },
      "source": [
        "A rat runs on an island and tries to eat as much as possible. The island is subdivided into $N\\times N$ cells, in which there are cheese (+0.5) and poisonous cells (-1). The rat has a visibility of 2 cells (thus it can see $5^2$ cells). The rat is given a time $T$ to accumulate as much food as possible. It can perform 4 actions: going up, down, left, right. \n",
        "\n",
        "The goal is to code an agent to solve this task that will learn by trial and error. We propose the following environment:"
      ]
    },
    {
      "cell_type": "code",
      "metadata": {
        "id": "hsLveSQpMuXd",
        "colab_type": "code",
        "colab": {}
      },
      "source": [
        "class Environment(object):\n",
        "    def __init__(self, grid_size=10, max_time=500, temperature=0.1):\n",
        "        grid_size = grid_size+4\n",
        "        self.grid_size = grid_size\n",
        "        self.max_time = max_time\n",
        "        self.temperature = temperature\n",
        "\n",
        "        #board on which one plays\n",
        "        self.board = np.zeros((grid_size,grid_size))\n",
        "        self.position = np.zeros((grid_size,grid_size))\n",
        "\n",
        "        # coordinate of the cat\n",
        "        self.x = 0\n",
        "        self.y = 1\n",
        "\n",
        "        # self time\n",
        "        self.t = 0\n",
        "\n",
        "        self.scale=16\n",
        "\n",
        "        self.to_draw = np.zeros((max_time+2, grid_size*self.scale, grid_size*self.scale, 3))\n",
        "\n",
        "\n",
        "    def draw(self,e):\n",
        "        skvideo.io.vwrite(str(e) + '.mp4', self.to_draw)\n",
        "\n",
        "    def get_frame(self,t):\n",
        "        b = np.zeros((self.grid_size,self.grid_size,3))+128\n",
        "        b[self.board>0,0] = 256\n",
        "        b[self.board < 0, 2] = 256\n",
        "        b[self.x,self.y,:]=256\n",
        "        b[-2:,:,:]=0\n",
        "        b[:,-2:,:]=0\n",
        "        b[:2,:,:]=0\n",
        "        b[:,:2,:]=0\n",
        "        \n",
        "        b =  cv2.resize(b, None, fx=self.scale, fy=self.scale, interpolation=cv2.INTER_NEAREST)\n",
        "\n",
        "        self.to_draw[t,:,:,:]=b\n",
        "\n",
        "\n",
        "    def act(self, action):\n",
        "        \"\"\"This function returns the new state, reward and decides if the\n",
        "        game ends.\"\"\"\n",
        "\n",
        "        self.get_frame(int(self.t))\n",
        "\n",
        "        self.position = np.zeros((self.grid_size, self.grid_size))\n",
        "\n",
        "        self.position[0:2,:]= -1\n",
        "        self.position[:,0:2] = -1\n",
        "        self.position[-2:, :] = -1\n",
        "        self.position[-2:, :] = -1\n",
        "\n",
        "        self.position[self.x, self.y] = 1\n",
        "        if action == 0:\n",
        "            if self.x == self.grid_size-3:\n",
        "                self.x = self.x-1\n",
        "            else:\n",
        "                self.x = self.x + 1\n",
        "        elif action == 1:\n",
        "            if self.x == 2:\n",
        "                self.x = self.x+1\n",
        "            else:\n",
        "                self.x = self.x-1\n",
        "        elif action == 2:\n",
        "            if self.y == self.grid_size - 3:\n",
        "                self.y = self.y - 1\n",
        "            else:\n",
        "                self.y = self.y + 1\n",
        "        elif action == 3:\n",
        "            if self.y == 2:\n",
        "                self.y = self.y + 1\n",
        "            else:\n",
        "                self.y = self.y - 1\n",
        "        else:\n",
        "            RuntimeError('Error: action not recognized')\n",
        "\n",
        "        self.t = self.t + 1\n",
        "        reward = self.board[self.x, self.y]\n",
        "        self.board[self.x, self.y] = 0\n",
        "        game_over = self.t > self.max_time\n",
        "        state = np.concatenate((self.board.reshape(self.grid_size, self.grid_size,1),\n",
        "                        self.position.reshape(self.grid_size, self.grid_size,1)),axis=2)\n",
        "        state = state[self.x-2:self.x+3,self.y-2:self.y+3,:]\n",
        "\n",
        "        return state, reward, game_over\n",
        "\n",
        "    def reset(self):\n",
        "        \"\"\"This function resets the game and returns the initial state\"\"\"\n",
        "\n",
        "        self.x = np.random.randint(3, self.grid_size-3, size=1)[0]\n",
        "        self.y = np.random.randint(3, self.grid_size-3, size=1)[0]\n",
        "\n",
        "\n",
        "        bonus = 0.5*np.random.binomial(1,self.temperature,size=self.grid_size**2)\n",
        "        bonus = bonus.reshape(self.grid_size,self.grid_size)\n",
        "\n",
        "        malus = -1.0*np.random.binomial(1,self.temperature,size=self.grid_size**2)\n",
        "        malus = malus.reshape(self.grid_size, self.grid_size)\n",
        "\n",
        "        self.to_draw = np.zeros((self.max_time+2, self.grid_size*self.scale, self.grid_size*self.scale, 3))\n",
        "\n",
        "\n",
        "        malus[bonus>0]=0\n",
        "\n",
        "        self.board = bonus + malus\n",
        "\n",
        "        self.position = np.zeros((self.grid_size, self.grid_size))\n",
        "        self.position[0:2,:]= -1\n",
        "        self.position[:,0:2] = -1\n",
        "        self.position[-2:, :] = -1\n",
        "        self.position[:, -2:] = -1\n",
        "        self.position[self.x,self.y]=1\n",
        "        self.board[self.x,self.y] = 0\n",
        "        self.t = 0\n",
        "\n",
        "        state = np.concatenate((\n",
        "                               self.board.reshape(self.grid_size, self.grid_size,1),\n",
        "                        self.position.reshape(self.grid_size, self.grid_size,1)),axis=2)\n",
        "\n",
        "        state = state[self.x - 2:self.x + 3, self.y - 2:self.y + 3, :]\n",
        "        return state"
      ],
      "execution_count": 0,
      "outputs": []
    },
    {
      "cell_type": "markdown",
      "metadata": {
        "id": "c0b-48-fMuXg",
        "colab_type": "text"
      },
      "source": [
        "The following elements are important because they correspond to the hyper parameters for this project:"
      ]
    },
    {
      "cell_type": "code",
      "metadata": {
        "id": "JJ3ZA9OUMuXh",
        "colab_type": "code",
        "colab": {}
      },
      "source": [
        "# parameters\n",
        "size = 13\n",
        "T=200\n",
        "temperature=0.3\n",
        "epochs_train=100 # set small when debugging\n",
        "epochs_test=20 # set small when debugging\n",
        "\n",
        "# display videos\n",
        "def display_videos(name):\n",
        "    video = io.open(name, 'r+b').read()\n",
        "    encoded = base64.b64encode(video)\n",
        "    return '''<video alt=\"test\" controls>\n",
        "                <source src=\"data:video/mp4;base64,{0}\" type=\"video/mp4\" />\n",
        "             </video>'''.format(encoded.decode('ascii'))"
      ],
      "execution_count": 0,
      "outputs": []
    },
    {
      "cell_type": "markdown",
      "metadata": {
        "id": "8loNK97jMuXl",
        "colab_type": "text"
      },
      "source": [
        "__Question 2__ Explain the use of the arrays ```position``` and ```board```."
      ]
    },
    {
      "cell_type": "markdown",
      "metadata": {
        "id": "-2l1v1yDMuXm",
        "colab_type": "text"
      },
      "source": [
        "\n",
        "\n",
        "`board[i,j]`indicates if there is a bonus (cheese), a malus (poison) or nothing at [i,j].\n",
        "\n",
        "`position[i,j]` indicates 1 if the agent is at i,j, 0 if he is not, -1 if i,j is not an acceptable position (edges)."
      ]
    },
    {
      "cell_type": "markdown",
      "metadata": {
        "id": "83EGlsuwMuXn",
        "colab_type": "text"
      },
      "source": [
        "## Random Agent"
      ]
    },
    {
      "cell_type": "markdown",
      "metadata": {
        "id": "k7HLSc0BMuXo",
        "colab_type": "text"
      },
      "source": [
        "***\n",
        "__Question 3__ Implement a random Agent (only ```learned_act``` needs to be implemented):"
      ]
    },
    {
      "cell_type": "code",
      "metadata": {
        "id": "19PfdMNCMuXp",
        "colab_type": "code",
        "colab": {}
      },
      "source": [
        "class RandomAgent(Agent):\n",
        "    def __init__(self):\n",
        "        super(RandomAgent, self).__init__()\n",
        "        pass\n",
        "\n",
        "    def learned_act(self, s):\n",
        "        \"\"\" From the current state, return a random action \"\"\"\n",
        "        a = np.random.randint(0, self.n_action)\n",
        "        return a"
      ],
      "execution_count": 0,
      "outputs": []
    },
    {
      "cell_type": "markdown",
      "metadata": {
        "id": "cNXmOjn6MuXt",
        "colab_type": "text"
      },
      "source": [
        "***\n",
        "***\n",
        "__Question 4__ Visualize the game moves. You need to fill in the following function for the evaluation:"
      ]
    },
    {
      "cell_type": "code",
      "metadata": {
        "id": "aiSvcMI-MuXt",
        "colab_type": "code",
        "colab": {}
      },
      "source": [
        "def test(agent,env,epochs,prefix=''):\n",
        "    # Number of won games\n",
        "    score = 0\n",
        "        \n",
        "    for e in range(epochs):\n",
        "        \n",
        "         # At each epoch, we restart to a fresh game and get the initial state\n",
        "        state = env.reset()\n",
        "        # This assumes that the games will end\n",
        "        game_over = False\n",
        "    \n",
        "        win = 0\n",
        "        lose = 0\n",
        "    \n",
        "        while not game_over:\n",
        "            # The agent performs an action\n",
        "            action = agent.act(state)\n",
        "    \n",
        "            # Apply an action to the environment, get the next state, the reward\n",
        "            # and if the games end\n",
        "            prev_state = state\n",
        "            state, reward, game_over = env.act(action)\n",
        "    \n",
        "            # Update the counters\n",
        "            if reward > 0:\n",
        "                win = win + reward\n",
        "            if reward < 0:\n",
        "                lose = lose -reward\n",
        "    \n",
        "            # Apply the reinforcement strategy\n",
        "            loss = agent.reinforce(prev_state, state,  action, reward, game_over)\n",
        "        \n",
        "        # Save as a mp4\n",
        "        env.draw(prefix+str(e))\n",
        "\n",
        "        # Update stats\n",
        "        score = score + win-lose\n",
        "\n",
        "        print(\"Win/lose count {}/{}. Average score ({})\"\n",
        "              .format(win, lose, score/(1+e)))\n",
        "    print('Final score: '+str(score/epochs))"
      ],
      "execution_count": 0,
      "outputs": []
    },
    {
      "cell_type": "code",
      "metadata": {
        "id": "q9XF59MFMuXx",
        "colab_type": "code",
        "outputId": "c8977672-d228-48d2-c260-5dec15bbff73",
        "colab": {
          "base_uri": "https://localhost:8080/",
          "height": 646
        }
      },
      "source": [
        "# Initialize the game\n",
        "env = Environment(grid_size=size, max_time=T,temperature=temperature)\n",
        "\n",
        "# Initialize the agent!\n",
        "agent = RandomAgent()\n",
        "\n",
        "test(agent,env,epochs_test,prefix='random')\n",
        "HTML(display_videos('random0.mp4'))"
      ],
      "execution_count": 48,
      "outputs": [
        {
          "output_type": "stream",
          "text": [
            "Win/lose count 8.0/12.0. Average score (-4.0)\n",
            "Win/lose count 11.5/10.0. Average score (-1.25)\n",
            "Win/lose count 7.5/9.0. Average score (-1.3333333333333333)\n",
            "Win/lose count 9.5/11.0. Average score (-1.375)\n",
            "Win/lose count 11.0/14.0. Average score (-1.7)\n",
            "Win/lose count 9.5/12.0. Average score (-1.8333333333333333)\n",
            "Win/lose count 10.0/17.0. Average score (-2.5714285714285716)\n",
            "Win/lose count 11.5/10.0. Average score (-2.0625)\n",
            "Win/lose count 6.5/14.0. Average score (-2.6666666666666665)\n",
            "Win/lose count 10.0/12.0. Average score (-2.6)\n",
            "Win/lose count 11.0/12.0. Average score (-2.4545454545454546)\n",
            "Win/lose count 12.0/13.0. Average score (-2.3333333333333335)\n",
            "Win/lose count 10.0/15.0. Average score (-2.5384615384615383)\n",
            "Win/lose count 8.0/14.0. Average score (-2.7857142857142856)\n",
            "Win/lose count 10.0/18.0. Average score (-3.1333333333333333)\n",
            "Win/lose count 8.0/9.0. Average score (-3.0)\n",
            "Win/lose count 4.0/11.0. Average score (-3.235294117647059)\n",
            "Win/lose count 13.5/6.0. Average score (-2.638888888888889)\n",
            "Win/lose count 10.0/21.0. Average score (-3.0789473684210527)\n",
            "Win/lose count 11.0/13.0. Average score (-3.025)\n",
            "Final score: -3.025\n"
          ],
          "name": "stdout"
        },
        {
          "output_type": "execute_result",
          "data": {
            "text/html": [
              "<video alt=\"test\" controls>\n",
              "                <source src=\"data:video/mp4;base64,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\" type=\"video/mp4\" />\n",
              "             </video>"
            ],
            "text/plain": [
              "<IPython.core.display.HTML object>"
            ]
          },
          "metadata": {
            "tags": []
          },
          "execution_count": 48
        }
      ]
    },
    {
      "cell_type": "markdown",
      "metadata": {
        "id": "qphYKTcHMuX0",
        "colab_type": "text"
      },
      "source": [
        "***\n",
        "## DQN"
      ]
    },
    {
      "cell_type": "markdown",
      "metadata": {
        "id": "dkyDu_xoMuX1",
        "colab_type": "text"
      },
      "source": [
        "Let us assume here that $T=\\infty$.\n",
        "\n",
        "***\n",
        "__Question 5__ Let $\\pi$ be a policy, show that:\n",
        "\n",
        "\\begin{equation*}\n",
        "Q^{\\pi}(s,a)=E_{(s',a')\\sim p(.|s,a)}[r(s,a)+\\gamma Q^{\\pi}(s',a')]\n",
        "\\end{equation*}\n",
        "\n",
        "Then, show that for the optimal policy $\\pi^*$ (we assume its existence), the following holds: \n",
        "\n",
        "\\begin{equation*}\n",
        "Q^{*}(s,a)=E_{s'\\sim \\pi^*(.|s,a)}[r(s,a)+\\gamma\\max_{a'}Q^{*}(s',a')].\n",
        "\\end{equation*}\n",
        "Finally, deduce that a plausible objective is:\n",
        "\n",
        "\\begin{equation*}\n",
        "\\mathcal{L}(\\theta)=E_{s' \\sim \\pi^*(.|s,a)}\\Vert r(s,a)+\\gamma\\max_{a'}Q(s',a',\\theta)-Q(s,a,\\theta)\\Vert^{2}.\n",
        "\\end{equation*}\n",
        "\n",
        "\n"
      ]
    },
    {
      "cell_type": "markdown",
      "metadata": {
        "id": "rpdubNZFMuX2",
        "colab_type": "text"
      },
      "source": [
        "We calculate the first result :\n",
        "\\begin{equation*}\n",
        "\\begin{aligned}\n",
        "Q^\\pi(s,a)= & E_{p^{\\pi}}[\\sum_{t<\\infty}\\gamma^{t}r(s_{t},a_{t})|s_{0}=s,a_{0}=a] \\\\\n",
        " = &  E_{p^{\\pi}}[r(s_{0},a_{0}) + \\sum_{ 1 \\leq t<\\infty}\\gamma^{t}r(s_{t},a_{t})|s_{0}=s,a_{0}=a] \\\\\n",
        "= & r(s,a) +  \\gamma E_{p^{\\pi}}[\\sum_{ 1 \\leq t<\\infty}\\gamma^{t-1}r(s_{t},a_{t})|s_{0}=s,a_{0}=a] \\\\\n",
        "= & r(s,a) +  \\gamma \\sum_{s',a'} p^{\\pi}(s',a'|s,a) E_{p^{\\pi}}[\\sum_{ 1 \\leq t<\\infty}\\gamma^{t-1}r(s_{t},a_{t})|s_{1}=s',a_{1}=a']] \\\\\n",
        "= & r(s,a) +  \\gamma \\sum_{s',a'} p^{\\pi}(s',a'|s,a) E_{p^{\\pi}}[\\sum_{ 0 \\leq t<\\infty}\\gamma^{t}r(s_{t},a_{t})|s_{0}=s',a_{0}=a']] \\\\\n",
        "= & r(s,a) +  \\gamma \\sum_{s',a'} p^{\\pi}(s',a'|s,a) Q^\\pi(s',a') \\\\\n",
        "= & E_{(s',a')\\sim p(.|s,a)}[r(s,a)+\\gamma Q^{\\pi}(s',a')]\n",
        "\\end{aligned}\n",
        "\\end{equation*}\n",
        "\n",
        "\n",
        "We get the second result :\n",
        "\n",
        "\\begin{equation*}\n",
        "\\begin{aligned}\n",
        "Q^*(s,a)= & max_{\\pi} Q^{\\pi}(s,a) =Q^{\\pi^*}(s,a) \\\\\n",
        "(1) = & r(s,a) + \\gamma E_{(s',a')\\sim p^{\\pi^*}}[Q^{\\pi^*}(s',a')]\\\\\n",
        "(2) = & r(s,a) + \\gamma E_{s'\\sim p(.|s,a)}[Q^{*}(s',\\pi^*(s'))]\n",
        "\\end{aligned}\n",
        "\\end{equation*}\n",
        "\n",
        "Then by definition of the optimal policy $Q^{*}(s',\\pi^{*}(s')) = \\max_{a'} Q^{*}(s',a')$ we have \n",
        "\n",
        "$$Q^{*}(s,a)=E_{(s')\\sim p(.|s,a)}[r(s,a) + \\gamma \\max_{a'}Q^{*}(s',a')]$$\n",
        "\n",
        "\n",
        "We want our $Q$-function estimate to converge towards $Q^*$ which is unknown. By using the first equation, we have an estimate of the value (This estimate is biased because we use bootstrap Q). By minimizing the difference between this estimate and the current Q, we get the following objective function. \n",
        "\n",
        "\\begin{equation*}\n",
        "\\mathcal{L}(\\theta)=E_{s' \\sim \\pi^*(.|s,a)}\\Vert r+\\gamma\\max\\max_{a'}Q(s',a',\\theta)-Q(s,a,\\theta)\\Vert^{2}.\n",
        "\\end{equation*}\n"
      ]
    },
    {
      "cell_type": "markdown",
      "metadata": {
        "id": "wspse4H-MuX3",
        "colab_type": "text"
      },
      "source": [
        "***\n",
        "The DQN-learning algorithm relies on these derivations to train the parameters $\\theta$ of a Deep Neural Network:\n",
        "\n",
        "1. At the state $s_t$, select the action $a_t$ with best reward using $Q_t$ and store the results;\n",
        "\n",
        "2. Obtain the new state $s_{t+1}$ from the environment $p$;\n",
        "\n",
        "3. Store $(s_t,a_t,s_{t+1})$;\n",
        "\n",
        "4. Obtain $Q_{t+1}$ by minimizing  $\\mathcal{L}$ from a recovered batch from the previously stored results.\n",
        "\n",
        "***\n",
        "__Question 6__ Implement the class ```Memory``` that stores moves (in a replay buffer) via ```remember``` and provides a ```random_access``` to these. Specify a maximum memory size to avoid side effects. You can for example use a ```list()``` and set by default ```max_memory=100```."
      ]
    },
    {
      "cell_type": "code",
      "metadata": {
        "id": "ZOWsd2d6MuX3",
        "colab_type": "code",
        "colab": {}
      },
      "source": [
        "class Memory(object):\n",
        "    def __init__(self, max_memory=100):\n",
        "        self.max_memory = max_memory\n",
        "        self.memory = list()\n",
        "\n",
        "    def remember(self, m):\n",
        "        self.memory.append(m)\n",
        "        if len(self.memory)>self.max_memory:\n",
        "          self.memory.pop(0)\n",
        "\n",
        "    def random_access(self):\n",
        "        return random.choice(self.memory)"
      ],
      "execution_count": 0,
      "outputs": []
    },
    {
      "cell_type": "markdown",
      "metadata": {
        "id": "YRFVD6fgMuX7",
        "colab_type": "text"
      },
      "source": [
        "***\n",
        "The pipeline we will use for training is given below:"
      ]
    },
    {
      "cell_type": "code",
      "metadata": {
        "id": "LGXzhvaWMuX7",
        "colab_type": "code",
        "colab": {}
      },
      "source": [
        "def train(agent,env,epoch,prefix=''):\n",
        "    # Draw curves :\n",
        "    scores = []\n",
        "    losses = []\n",
        "\n",
        "    # Number of won games\n",
        "    score = 0\n",
        "    loss = 0\n",
        "\n",
        "\n",
        "    for e in range(epoch):\n",
        "        # At each epoch, we restart to a fresh game and get the initial state\n",
        "        state = env.reset()\n",
        "        # This assumes that the games will terminate\n",
        "        game_over = False\n",
        "\n",
        "        win = 0\n",
        "        lose = 0\n",
        "\n",
        "        while not game_over:\n",
        "            # The agent performs an action\n",
        "            action = agent.act(state)\n",
        "\n",
        "            # Apply an action to the environment, get the next state, the reward\n",
        "            # and if the games end\n",
        "            prev_state = state\n",
        "            state, reward, game_over = env.act(action)\n",
        "\n",
        "            # Update the counters\n",
        "            if reward > 0:\n",
        "                win = win + reward\n",
        "            if reward < 0:\n",
        "                lose = lose -reward\n",
        "\n",
        "            # Apply the reinforcement strategy\n",
        "            loss = agent.reinforce(prev_state, state,  action, reward, game_over)\n",
        "\n",
        "        # Save as a mp4\n",
        "        if e % 10 == 0:\n",
        "            env.draw(prefix+str(e))\n",
        "\n",
        "        # Update stats\n",
        "        score += win-lose\n",
        "        \n",
        "        print(\"Epoch {:03d}/{:03d} | Loss {:.4f} | Win/lose count {}/{} ({})\"\n",
        "              .format(e, epoch, loss, win, lose, win-lose))\n",
        "        agent.save(name_weights=prefix+'model.h5',name_model=prefix+'model.json')\n",
        "        scores.append(win-lose)\n",
        "        losses.append(loss)\n",
        "\n",
        "    plt.title(\"Scores according to epochs\")\n",
        "    plt.xlabel(\"Epoch\")\n",
        "    plt.ylabel(\"Scores\")\n",
        "    plt.plot(scores)\n",
        "    plt.show()\n",
        "\n",
        "    plt.title(\"Loss according to epochs\")\n",
        "    plt.xlabel(\"Epoch\")\n",
        "    plt.ylabel(\"Loss\")\n",
        "    plt.plot(losses)\n",
        "    plt.show()"
      ],
      "execution_count": 0,
      "outputs": []
    },
    {
      "cell_type": "markdown",
      "metadata": {
        "id": "R1SXlVkwMuX-",
        "colab_type": "text"
      },
      "source": [
        "***\n",
        "__Question 7__ Implement the DQN training algorithm using a cascade of fully connected layers. You can use different learning rate, batch size or memory size parameters. In particular, the loss might oscillate while the player will start to win the games. You have to find a good criterium."
      ]
    },
    {
      "cell_type": "code",
      "metadata": {
        "id": "E3IgN3CKMuX_",
        "colab_type": "code",
        "colab": {}
      },
      "source": [
        "class DQN(Agent):\n",
        "    def __init__(self, grid_size,  epsilon = 0.1, memory_size=100, batch_size = 16,n_state=2):\n",
        "        super(DQN, self).__init__(epsilon = epsilon)\n",
        "\n",
        "        # Discount for Q learning\n",
        "        self.discount = 0.99\n",
        "        \n",
        "        self.grid_size = grid_size\n",
        "        \n",
        "        # number of state\n",
        "        self.n_state = n_state\n",
        "\n",
        "        # Memory\n",
        "        self.memory = Memory(memory_size)\n",
        "        \n",
        "        # Batch size when learning\n",
        "        self.batch_size = batch_size\n",
        "\n",
        "    def learned_act(self, s):\n",
        "        s= s.reshape(1,5,5,self.n_state)\n",
        "        return np.argmax(self.model.predict(s))\n",
        "\n",
        "\n",
        "    def reinforce(self, s_, n_s_, a_, r_, game_over_):\n",
        "        # Two steps: first memorize the states, second learn from the pool\n",
        "\n",
        "        self.memory.remember([s_, n_s_, a_, r_, game_over_])\n",
        "        \n",
        "        input_states = np.zeros((self.batch_size, 5,5,self.n_state))\n",
        "        next_states = np.zeros((self.batch_size, 5,5,self.n_state))\n",
        "        target_q = np.zeros((self.batch_size, 4))\n",
        "        memory_selected = []\n",
        "        \n",
        "        for i in range(self.batch_size):\n",
        "            memory_selected.append(self.memory.random_access())\n",
        "            input_states[i] = memory_selected[i][0]\n",
        "            next_states[i] = memory_selected[i][1]\n",
        "\n",
        "          \n",
        "        target_q[:] = self.model.predict(input_states)\n",
        "        q_nextstate = self.model.predict(next_states)\n",
        "\n",
        "\n",
        "      \n",
        "        for i in range(self.batch_size):\n",
        "            if memory_selected[i][-1]:\n",
        "                target_q[i, memory_selected[i][2]] = memory_selected[i][3]\n",
        "            else:\n",
        "                target_q[i, memory_selected[i][2]] = memory_selected[i][3] + self.discount * q_nextstate[i].max()        \n",
        "        \n",
        "        \n",
        "        # HINT: Clip the target to avoid exploiding gradients.. -- clipping is a bit tighter\n",
        "        target_q = np.clip(target_q, -3, 3)\n",
        "        l = self.model.train_on_batch(input_states, target_q)\n",
        "        return l\n",
        "\n",
        "    def save(self,name_weights='model.h5',name_model='model.json'):\n",
        "        self.model.save_weights(name_weights, overwrite=True)\n",
        "        with open(name_model, \"w\") as outfile:\n",
        "            json.dump(self.model.to_json(), outfile)\n",
        "            \n",
        "    def load(self,name_weights='model.h5',name_model='model.json'):\n",
        "        with open(name_model, \"r\") as jfile:\n",
        "            model = model_from_json(json.load(jfile))\n",
        "        model.load_weights(name_weights)\n",
        "        model.compile(\"sgd\", \"mse\")\n",
        "        self.model = model\n",
        "\n",
        "            \n",
        "class DQN_FC(DQN):\n",
        "    def __init__(self, *args, lr=0.1,**kwargs):\n",
        "        super(DQN_FC, self).__init__( *args,**kwargs)\n",
        "        # NN Model\n",
        "        size = args[0]  # grid size\n",
        "        hid_size = 16\n",
        "        input_shape = (5, 5, self.n_state)  # give the 2-neighborhood of mouse\n",
        "        \n",
        "        # Input: state i.e. 2-neighborhood of the agent\n",
        "        # Output: estimate of the Q value function Q(s, a) for all states a\n",
        "        model = Sequential()\n",
        "        model.add(keras.layers.Flatten(input_shape=input_shape))\n",
        "        model.add(Dense(32, activation='relu'))\n",
        "        model.add(Dense(16, activation='relu'))\n",
        "        model.add(Dense(self.n_action))# output layer\n",
        "        model.compile(adam(lr=0.0001),'mse')\n",
        "        self.model = model\n",
        "        \n",
        "        "
      ],
      "execution_count": 0,
      "outputs": []
    },
    {
      "cell_type": "code",
      "metadata": {
        "id": "vJ9RL3J5MuYC",
        "colab_type": "code",
        "outputId": "711817dc-d483-407c-80f1-119317b27ad4",
        "colab": {
          "base_uri": "https://localhost:8080/",
          "height": 1000
        }
      },
      "source": [
        "env = Environment(grid_size=size, max_time=T, temperature=0.3)\n",
        "agent = DQN_FC(size, lr=.1, epsilon = 0.1, memory_size=2000, batch_size = 32)\n",
        "train(agent, env, epochs_train, prefix='fc_train')\n",
        "HTML(display_videos('fc_train90.mp4'))"
      ],
      "execution_count": 52,
      "outputs": [
        {
          "output_type": "stream",
          "text": [
            "Epoch 000/100 | Loss 0.0574 | Win/lose count 2.5/7.0 (-4.5)\n",
            "Epoch 001/100 | Loss 0.0364 | Win/lose count 0.5/1.0 (-0.5)\n",
            "Epoch 002/100 | Loss 0.0107 | Win/lose count 2.5/0 (2.5)\n",
            "Epoch 003/100 | Loss 0.0098 | Win/lose count 3.0/3.0 (0.0)\n",
            "Epoch 004/100 | Loss 0.0031 | Win/lose count 3.0/4.0 (-1.0)\n",
            "Epoch 005/100 | Loss 0.0080 | Win/lose count 2.0/5.0 (-3.0)\n",
            "Epoch 006/100 | Loss 0.0059 | Win/lose count 3.0/9.0 (-6.0)\n",
            "Epoch 007/100 | Loss 0.0072 | Win/lose count 7.0/8.0 (-1.0)\n",
            "Epoch 008/100 | Loss 0.0166 | Win/lose count 4.5/4.0 (0.5)\n",
            "Epoch 009/100 | Loss 0.0095 | Win/lose count 1.0/1.0 (0.0)\n",
            "Epoch 010/100 | Loss 0.0092 | Win/lose count 3.0/4.0 (-1.0)\n",
            "Epoch 011/100 | Loss 0.0069 | Win/lose count 2.0/2.0 (0.0)\n",
            "Epoch 012/100 | Loss 0.0174 | Win/lose count 4.5/4.0 (0.5)\n",
            "Epoch 013/100 | Loss 0.0012 | Win/lose count 4.0/5.0 (-1.0)\n",
            "Epoch 014/100 | Loss 0.0055 | Win/lose count 6.0/8.0 (-2.0)\n",
            "Epoch 015/100 | Loss 0.0076 | Win/lose count 2.5/1.0 (1.5)\n",
            "Epoch 016/100 | Loss 0.0317 | Win/lose count 2.5/5.0 (-2.5)\n",
            "Epoch 017/100 | Loss 0.0031 | Win/lose count 2.0/5.0 (-3.0)\n",
            "Epoch 018/100 | Loss 0.0055 | Win/lose count 4.5/2.0 (2.5)\n",
            "Epoch 019/100 | Loss 0.0104 | Win/lose count 2.5/5.0 (-2.5)\n",
            "Epoch 020/100 | Loss 0.0035 | Win/lose count 2.5/3.0 (-0.5)\n",
            "Epoch 021/100 | Loss 0.0147 | Win/lose count 3.0/9.0 (-6.0)\n",
            "Epoch 022/100 | Loss 0.0127 | Win/lose count 6.0/3.0 (3.0)\n",
            "Epoch 023/100 | Loss 0.0125 | Win/lose count 4.5/6.0 (-1.5)\n",
            "Epoch 024/100 | Loss 0.0277 | Win/lose count 4.0/2.0 (2.0)\n",
            "Epoch 025/100 | Loss 0.0051 | Win/lose count 6.0/3.0 (3.0)\n",
            "Epoch 026/100 | Loss 0.0074 | Win/lose count 3.0/2.0 (1.0)\n",
            "Epoch 027/100 | Loss 0.0105 | Win/lose count 2.5/0 (2.5)\n",
            "Epoch 028/100 | Loss 0.0247 | Win/lose count 3.5/2.0 (1.5)\n",
            "Epoch 029/100 | Loss 0.0179 | Win/lose count 4.5/3.0 (1.5)\n",
            "Epoch 030/100 | Loss 0.0203 | Win/lose count 2.0/4.0 (-2.0)\n",
            "Epoch 031/100 | Loss 0.0132 | Win/lose count 2.5/2.0 (0.5)\n",
            "Epoch 032/100 | Loss 0.0098 | Win/lose count 2.5/2.0 (0.5)\n",
            "Epoch 033/100 | Loss 0.0057 | Win/lose count 2.5/2.0 (0.5)\n",
            "Epoch 034/100 | Loss 0.0047 | Win/lose count 1.5/1.0 (0.5)\n",
            "Epoch 035/100 | Loss 0.0039 | Win/lose count 6.0/7.0 (-1.0)\n",
            "Epoch 036/100 | Loss 0.0012 | Win/lose count 4.5/0 (4.5)\n",
            "Epoch 037/100 | Loss 0.0157 | Win/lose count 6.0/1.0 (5.0)\n",
            "Epoch 038/100 | Loss 0.0059 | Win/lose count 3.5/4.0 (-0.5)\n",
            "Epoch 039/100 | Loss 0.0062 | Win/lose count 1.0/1.0 (0.0)\n",
            "Epoch 040/100 | Loss 0.0103 | Win/lose count 3.5/2.0 (1.5)\n",
            "Epoch 041/100 | Loss 0.0160 | Win/lose count 1.0/3.0 (-2.0)\n",
            "Epoch 042/100 | Loss 0.0059 | Win/lose count 2.0/0 (2.0)\n",
            "Epoch 043/100 | Loss 0.0043 | Win/lose count 5.0/4.0 (1.0)\n",
            "Epoch 044/100 | Loss 0.0055 | Win/lose count 2.5/1.0 (1.5)\n",
            "Epoch 045/100 | Loss 0.0065 | Win/lose count 7.0/4.0 (3.0)\n",
            "Epoch 046/100 | Loss 0.0117 | Win/lose count 5.0/5.0 (0.0)\n",
            "Epoch 047/100 | Loss 0.0022 | Win/lose count 4.0/3.0 (1.0)\n",
            "Epoch 048/100 | Loss 0.0083 | Win/lose count 6.0/7.0 (-1.0)\n",
            "Epoch 049/100 | Loss 0.0561 | Win/lose count 4.0/6.0 (-2.0)\n",
            "Epoch 050/100 | Loss 0.0048 | Win/lose count 3.0/1.0 (2.0)\n",
            "Epoch 051/100 | Loss 0.0434 | Win/lose count 3.0/4.0 (-1.0)\n",
            "Epoch 052/100 | Loss 0.0079 | Win/lose count 8.5/1.0 (7.5)\n",
            "Epoch 053/100 | Loss 0.0100 | Win/lose count 5.0/4.0 (1.0)\n",
            "Epoch 054/100 | Loss 0.0028 | Win/lose count 1.5/4.0 (-2.5)\n",
            "Epoch 055/100 | Loss 0.0023 | Win/lose count 5.0/5.0 (0.0)\n",
            "Epoch 056/100 | Loss 0.0122 | Win/lose count 2.0/1.0 (1.0)\n",
            "Epoch 057/100 | Loss 0.0067 | Win/lose count 9.5/2.0 (7.5)\n",
            "Epoch 058/100 | Loss 0.0046 | Win/lose count 2.0/1.0 (1.0)\n",
            "Epoch 059/100 | Loss 0.0063 | Win/lose count 3.5/3.0 (0.5)\n",
            "Epoch 060/100 | Loss 0.0039 | Win/lose count 11.5/5.0 (6.5)\n",
            "Epoch 061/100 | Loss 0.0029 | Win/lose count 7.0/4.0 (3.0)\n",
            "Epoch 062/100 | Loss 0.0024 | Win/lose count 9.0/5.0 (4.0)\n",
            "Epoch 063/100 | Loss 0.0041 | Win/lose count 5.5/3.0 (2.5)\n",
            "Epoch 064/100 | Loss 0.0074 | Win/lose count 4.0/1.0 (3.0)\n",
            "Epoch 065/100 | Loss 0.0036 | Win/lose count 5.0/3.0 (2.0)\n",
            "Epoch 066/100 | Loss 0.0056 | Win/lose count 4.5/3.0 (1.5)\n",
            "Epoch 067/100 | Loss 0.0555 | Win/lose count 4.5/6.0 (-1.5)\n",
            "Epoch 068/100 | Loss 0.0361 | Win/lose count 3.5/4.0 (-0.5)\n",
            "Epoch 069/100 | Loss 0.0052 | Win/lose count 8.0/2.0 (6.0)\n",
            "Epoch 070/100 | Loss 0.0098 | Win/lose count 3.5/2.0 (1.5)\n",
            "Epoch 071/100 | Loss 0.0042 | Win/lose count 4.0/1.0 (3.0)\n",
            "Epoch 072/100 | Loss 0.0026 | Win/lose count 2.5/5.0 (-2.5)\n",
            "Epoch 073/100 | Loss 0.0036 | Win/lose count 8.0/3.0 (5.0)\n",
            "Epoch 074/100 | Loss 0.0328 | Win/lose count 5.5/3.0 (2.5)\n",
            "Epoch 075/100 | Loss 0.0058 | Win/lose count 17.5/0 (17.5)\n",
            "Epoch 076/100 | Loss 0.0049 | Win/lose count 10.0/1.0 (9.0)\n",
            "Epoch 077/100 | Loss 0.0097 | Win/lose count 11.5/5.0 (6.5)\n",
            "Epoch 078/100 | Loss 0.0083 | Win/lose count 3.0/1.0 (2.0)\n",
            "Epoch 079/100 | Loss 0.0115 | Win/lose count 0.5/3.0 (-2.5)\n",
            "Epoch 080/100 | Loss 0.0495 | Win/lose count 5.5/2.0 (3.5)\n",
            "Epoch 081/100 | Loss 0.0447 | Win/lose count 8.5/3.0 (5.5)\n",
            "Epoch 082/100 | Loss 0.0056 | Win/lose count 6.0/4.0 (2.0)\n",
            "Epoch 083/100 | Loss 0.0063 | Win/lose count 3.5/1.0 (2.5)\n",
            "Epoch 084/100 | Loss 0.0053 | Win/lose count 6.5/0 (6.5)\n",
            "Epoch 085/100 | Loss 0.0066 | Win/lose count 6.0/3.0 (3.0)\n",
            "Epoch 086/100 | Loss 0.0158 | Win/lose count 12.0/3.0 (9.0)\n",
            "Epoch 087/100 | Loss 0.0020 | Win/lose count 7.5/2.0 (5.5)\n",
            "Epoch 088/100 | Loss 0.0086 | Win/lose count 12.0/2.0 (10.0)\n",
            "Epoch 089/100 | Loss 0.0029 | Win/lose count 10.0/2.0 (8.0)\n",
            "Epoch 090/100 | Loss 0.0080 | Win/lose count 10.5/3.0 (7.5)\n",
            "Epoch 091/100 | Loss 0.0038 | Win/lose count 7.0/3.0 (4.0)\n",
            "Epoch 092/100 | Loss 0.0051 | Win/lose count 9.5/3.0 (6.5)\n",
            "Epoch 093/100 | Loss 0.0035 | Win/lose count 6.5/4.0 (2.5)\n",
            "Epoch 094/100 | Loss 0.0027 | Win/lose count 8.5/2.0 (6.5)\n",
            "Epoch 095/100 | Loss 0.0056 | Win/lose count 7.5/3.0 (4.5)\n",
            "Epoch 096/100 | Loss 0.0058 | Win/lose count 14.5/6.0 (8.5)\n",
            "Epoch 097/100 | Loss 0.0033 | Win/lose count 12.5/2.0 (10.5)\n",
            "Epoch 098/100 | Loss 0.0069 | Win/lose count 8.5/2.0 (6.5)\n",
            "Epoch 099/100 | Loss 0.0035 | Win/lose count 23.5/5.0 (18.5)\n"
          ],
          "name": "stdout"
        },
        {
          "output_type": "display_data",
          "data": {
            "image/png": "[encoded data removed]",
            "text/plain": [
              "<Figure size 432x288 with 1 Axes>"
            ]
          },
          "metadata": {
            "tags": []
          }
        },
        {
          "output_type": "display_data",
          "data": {
            "image/png": "[encoded data removed]",
            "text/plain": [
              "<Figure size 432x288 with 1 Axes>"
            ]
          },
          "metadata": {
            "tags": []
          }
        },
        {
          "output_type": "execute_result",
          "data": {
            "text/html": [
              "<video alt=\"test\" controls>\n",
              "                <source src=\"data:video/mp4;base64,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\" type=\"video/mp4\" />\n",
              "             </video>"
            ],
            "text/plain": [
              "<IPython.core.display.HTML object>"
            ]
          },
          "metadata": {
            "tags": []
          },
          "execution_count": 52
        }
      ]
    },
    {
      "cell_type": "markdown",
      "metadata": {
        "id": "-B75l3GsMuYF",
        "colab_type": "text"
      },
      "source": [
        "***\n",
        "***\n",
        "__Question 8__ Implement the DQN training algorithm using a CNN (for example, 2 convolutional layers and one final fully connected layer)."
      ]
    },
    {
      "cell_type": "code",
      "metadata": {
        "id": "6btspc47MuYF",
        "colab_type": "code",
        "colab": {}
      },
      "source": [
        "class DQN_CNN(DQN):\n",
        "    def __init__(self, *args,lr=0.0001,**kwargs):\n",
        "        super(DQN_CNN, self).__init__(*args,**kwargs)\n",
        "        input_shape = (5, 5, self.n_state)\n",
        "        model = Sequential()\n",
        "        model.add(Conv2D(50,(2,2),input_shape=(5,5,self.n_state,),activation='relu'))\n",
        "        model.add(Conv2D(30,(2,2),activation='relu'))\n",
        "        model.add(keras.layers.Flatten())\n",
        "        model.add(Dense(4))\n",
        "        model.compile(adam(lr=lr), \"mse\")\n",
        "        self.model = model"
      ],
      "execution_count": 0,
      "outputs": []
    },
    {
      "cell_type": "code",
      "metadata": {
        "id": "p9XWtWHrMuYJ",
        "colab_type": "code",
        "outputId": "433ea37a-9c4a-483f-aae8-fe1e83ef8180",
        "colab": {
          "base_uri": "https://localhost:8080/",
          "height": 1000
        }
      },
      "source": [
        "env = Environment(grid_size=size, max_time=T, temperature=0.3)\n",
        "agent = DQN_CNN(size, lr=.0001, epsilon = 0.1, memory_size=2000, batch_size = 32)\n",
        "train(agent,env,epochs_train,prefix='cnn_train')\n",
        "HTML(display_videos('cnn_train90.mp4'))"
      ],
      "execution_count": 54,
      "outputs": [
        {
          "output_type": "stream",
          "text": [
            "Epoch 000/100 | Loss 0.0028 | Win/lose count 2.5/3.0 (-0.5)\n",
            "Epoch 001/100 | Loss 0.0034 | Win/lose count 6.5/1.0 (5.5)\n",
            "Epoch 002/100 | Loss 0.0204 | Win/lose count 7.0/2.0 (5.0)\n",
            "Epoch 003/100 | Loss 0.0479 | Win/lose count 3.5/4.0 (-0.5)\n",
            "Epoch 004/100 | Loss 0.0363 | Win/lose count 2.0/5.0 (-3.0)\n",
            "Epoch 005/100 | Loss 0.0082 | Win/lose count 5.5/9.0 (-3.5)\n",
            "Epoch 006/100 | Loss 0.0036 | Win/lose count 6.5/2.0 (4.5)\n",
            "Epoch 007/100 | Loss 0.0102 | Win/lose count 8.0/3.0 (5.0)\n",
            "Epoch 008/100 | Loss 0.0042 | Win/lose count 4.5/1.0 (3.5)\n",
            "Epoch 009/100 | Loss 0.0555 | Win/lose count 8.0/2.0 (6.0)\n",
            "Epoch 010/100 | Loss 0.0037 | Win/lose count 3.0/4.0 (-1.0)\n",
            "Epoch 011/100 | Loss 0.0017 | Win/lose count 7.5/1.0 (6.5)\n",
            "Epoch 012/100 | Loss 0.0049 | Win/lose count 6.5/5.0 (1.5)\n",
            "Epoch 013/100 | Loss 0.0033 | Win/lose count 10.0/3.0 (7.0)\n",
            "Epoch 014/100 | Loss 0.0096 | Win/lose count 8.5/2.0 (6.5)\n",
            "Epoch 015/100 | Loss 0.0069 | Win/lose count 7.5/2.0 (5.5)\n",
            "Epoch 016/100 | Loss 0.0019 | Win/lose count 12.5/1.0 (11.5)\n",
            "Epoch 017/100 | Loss 0.0024 | Win/lose count 12.0/3.0 (9.0)\n",
            "Epoch 018/100 | Loss 0.0017 | Win/lose count 11.5/6.0 (5.5)\n",
            "Epoch 019/100 | Loss 0.0018 | Win/lose count 3.5/1.0 (2.5)\n",
            "Epoch 020/100 | Loss 0.0021 | Win/lose count 3.5/4.0 (-0.5)\n",
            "Epoch 021/100 | Loss 0.0556 | Win/lose count 13.5/4.0 (9.5)\n",
            "Epoch 022/100 | Loss 0.0038 | Win/lose count 12.0/1.0 (11.0)\n",
            "Epoch 023/100 | Loss 0.0125 | Win/lose count 7.5/1.0 (6.5)\n",
            "Epoch 024/100 | Loss 0.0039 | Win/lose count 13.0/4.0 (9.0)\n",
            "Epoch 025/100 | Loss 0.0018 | Win/lose count 7.0/0 (7.0)\n",
            "Epoch 026/100 | Loss 0.0013 | Win/lose count 15.0/6.0 (9.0)\n",
            "Epoch 027/100 | Loss 0.0041 | Win/lose count 4.5/3.0 (1.5)\n",
            "Epoch 028/100 | Loss 0.0030 | Win/lose count 15.5/2.0 (13.5)\n",
            "Epoch 029/100 | Loss 0.0021 | Win/lose count 9.0/2.0 (7.0)\n",
            "Epoch 030/100 | Loss 0.0572 | Win/lose count 9.5/1.0 (8.5)\n",
            "Epoch 031/100 | Loss 0.0089 | Win/lose count 12.0/1.0 (11.0)\n",
            "Epoch 032/100 | Loss 0.0096 | Win/lose count 17.5/4.0 (13.5)\n",
            "Epoch 033/100 | Loss 0.0035 | Win/lose count 13.0/0 (13.0)\n",
            "Epoch 034/100 | Loss 0.0063 | Win/lose count 11.0/0 (11.0)\n",
            "Epoch 035/100 | Loss 0.0342 | Win/lose count 11.0/1.0 (10.0)\n",
            "Epoch 036/100 | Loss 0.0021 | Win/lose count 11.5/5.0 (6.5)\n",
            "Epoch 037/100 | Loss 0.0017 | Win/lose count 9.0/2.0 (7.0)\n",
            "Epoch 038/100 | Loss 0.0032 | Win/lose count 8.5/2.0 (6.5)\n",
            "Epoch 039/100 | Loss 0.1005 | Win/lose count 13.0/5.0 (8.0)\n",
            "Epoch 040/100 | Loss 0.0039 | Win/lose count 8.0/0 (8.0)\n",
            "Epoch 041/100 | Loss 0.0009 | Win/lose count 13.5/1.0 (12.5)\n",
            "Epoch 042/100 | Loss 0.0512 | Win/lose count 25.0/7.0 (18.0)\n",
            "Epoch 043/100 | Loss 0.0031 | Win/lose count 9.0/4.0 (5.0)\n",
            "Epoch 044/100 | Loss 0.0464 | Win/lose count 4.0/4.0 (0.0)\n",
            "Epoch 045/100 | Loss 0.0036 | Win/lose count 10.5/3.0 (7.5)\n",
            "Epoch 046/100 | Loss 0.0020 | Win/lose count 10.5/4.0 (6.5)\n",
            "Epoch 047/100 | Loss 0.0034 | Win/lose count 18.0/2.0 (16.0)\n",
            "Epoch 048/100 | Loss 0.0459 | Win/lose count 10.5/5.0 (5.5)\n",
            "Epoch 049/100 | Loss 0.0042 | Win/lose count 18.0/3.0 (15.0)\n",
            "Epoch 050/100 | Loss 0.0024 | Win/lose count 17.0/5.0 (12.0)\n",
            "Epoch 051/100 | Loss 0.0036 | Win/lose count 8.5/3.0 (5.5)\n",
            "Epoch 052/100 | Loss 0.0442 | Win/lose count 13.5/2.0 (11.5)\n",
            "Epoch 053/100 | Loss 0.0018 | Win/lose count 11.0/2.0 (9.0)\n",
            "Epoch 054/100 | Loss 0.0109 | Win/lose count 16.0/3.0 (13.0)\n",
            "Epoch 055/100 | Loss 0.0013 | Win/lose count 21.0/2.0 (19.0)\n",
            "Epoch 056/100 | Loss 0.0023 | Win/lose count 22.5/5.0 (17.5)\n",
            "Epoch 057/100 | Loss 0.0018 | Win/lose count 10.5/2.0 (8.5)\n",
            "Epoch 058/100 | Loss 0.0055 | Win/lose count 15.0/2.0 (13.0)\n",
            "Epoch 059/100 | Loss 0.0016 | Win/lose count 20.0/3.0 (17.0)\n",
            "Epoch 060/100 | Loss 0.0015 | Win/lose count 9.5/3.0 (6.5)\n",
            "Epoch 061/100 | Loss 0.0010 | Win/lose count 13.5/4.0 (9.5)\n",
            "Epoch 062/100 | Loss 0.0022 | Win/lose count 16.5/4.0 (12.5)\n",
            "Epoch 063/100 | Loss 0.0533 | Win/lose count 15.5/2.0 (13.5)\n",
            "Epoch 064/100 | Loss 0.0020 | Win/lose count 9.0/4.0 (5.0)\n",
            "Epoch 065/100 | Loss 0.0028 | Win/lose count 11.5/1.0 (10.5)\n",
            "Epoch 066/100 | Loss 0.0011 | Win/lose count 9.5/4.0 (5.5)\n",
            "Epoch 067/100 | Loss 0.0025 | Win/lose count 13.5/3.0 (10.5)\n",
            "Epoch 068/100 | Loss 0.0030 | Win/lose count 11.5/3.0 (8.5)\n",
            "Epoch 069/100 | Loss 0.0024 | Win/lose count 6.0/3.0 (3.0)\n",
            "Epoch 070/100 | Loss 0.0016 | Win/lose count 14.0/4.0 (10.0)\n",
            "Epoch 071/100 | Loss 0.0009 | Win/lose count 10.5/2.0 (8.5)\n",
            "Epoch 072/100 | Loss 0.0060 | Win/lose count 14.0/1.0 (13.0)\n",
            "Epoch 073/100 | Loss 0.0015 | Win/lose count 7.5/2.0 (5.5)\n",
            "Epoch 074/100 | Loss 0.0047 | Win/lose count 12.0/3.0 (9.0)\n",
            "Epoch 075/100 | Loss 0.0022 | Win/lose count 20.5/4.0 (16.5)\n",
            "Epoch 076/100 | Loss 0.0028 | Win/lose count 11.0/3.0 (8.0)\n",
            "Epoch 077/100 | Loss 0.0036 | Win/lose count 17.0/4.0 (13.0)\n",
            "Epoch 078/100 | Loss 0.0011 | Win/lose count 17.0/1.0 (16.0)\n",
            "Epoch 079/100 | Loss 0.0011 | Win/lose count 12.5/3.0 (9.5)\n",
            "Epoch 080/100 | Loss 0.0017 | Win/lose count 19.5/5.0 (14.5)\n",
            "Epoch 081/100 | Loss 0.0024 | Win/lose count 16.0/4.0 (12.0)\n",
            "Epoch 082/100 | Loss 0.0014 | Win/lose count 22.0/0 (22.0)\n",
            "Epoch 083/100 | Loss 0.0015 | Win/lose count 13.0/1.0 (12.0)\n",
            "Epoch 084/100 | Loss 0.0524 | Win/lose count 13.5/1.0 (12.5)\n",
            "Epoch 085/100 | Loss 0.0021 | Win/lose count 23.5/4.0 (19.5)\n",
            "Epoch 086/100 | Loss 0.0028 | Win/lose count 20.5/2.0 (18.5)\n",
            "Epoch 087/100 | Loss 0.0018 | Win/lose count 18.5/6.0 (12.5)\n",
            "Epoch 088/100 | Loss 0.0014 | Win/lose count 9.5/0 (9.5)\n",
            "Epoch 089/100 | Loss 0.0025 | Win/lose count 23.0/2.0 (21.0)\n",
            "Epoch 090/100 | Loss 0.0012 | Win/lose count 10.5/2.0 (8.5)\n",
            "Epoch 091/100 | Loss 0.0018 | Win/lose count 16.5/6.0 (10.5)\n",
            "Epoch 092/100 | Loss 0.0514 | Win/lose count 24.5/1.0 (23.5)\n",
            "Epoch 093/100 | Loss 0.0019 | Win/lose count 24.0/0 (24.0)\n",
            "Epoch 094/100 | Loss 0.0022 | Win/lose count 10.5/1.0 (9.5)\n",
            "Epoch 095/100 | Loss 0.0025 | Win/lose count 23.5/4.0 (19.5)\n",
            "Epoch 096/100 | Loss 0.0009 | Win/lose count 17.0/2.0 (15.0)\n",
            "Epoch 097/100 | Loss 0.0018 | Win/lose count 11.5/0 (11.5)\n",
            "Epoch 098/100 | Loss 0.0015 | Win/lose count 12.5/3.0 (9.5)\n",
            "Epoch 099/100 | Loss 0.0014 | Win/lose count 12.0/1.0 (11.0)\n"
          ],
          "name": "stdout"
        },
        {
          "output_type": "display_data",
          "data": {
            "image/png": "[encoded data removed]",
            "text/plain": [
              "<Figure size 432x288 with 1 Axes>"
            ]
          },
          "metadata": {
            "tags": []
          }
        },
        {
          "output_type": "display_data",
          "data": {
            "image/png": "[encoded data removed]",
            "text/plain": [
              "<Figure size 432x288 with 1 Axes>"
            ]
          },
          "metadata": {
            "tags": []
          }
        },
        {
          "output_type": "execute_result",
          "data": {
            "text/html": [
              "<video alt=\"test\" controls>\n",
              "                <source src=\"data:video/mp4;base64,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\" type=\"video/mp4\" />\n",
              "             </video>"
            ],
            "text/plain": [
              "<IPython.core.display.HTML object>"
            ]
          },
          "metadata": {
            "tags": []
          },
          "execution_count": 54
        }
      ]
    },
    {
      "cell_type": "markdown",
      "metadata": {
        "id": "e-bbuq5qMuYN",
        "colab_type": "text"
      },
      "source": [
        "***\n",
        "***\n",
        "__Question 9__ Test both algorithms and compare their performances. Which issue(s) do you observe? Observe also different behaviors by changing the temperature."
      ]
    },
    {
      "cell_type": "code",
      "metadata": {
        "id": "-J2QFqreMuYO",
        "colab_type": "code",
        "outputId": "c4ebf5f0-ae4e-4d23-877d-a67fde7452dd",
        "colab": {
          "base_uri": "https://localhost:8080/",
          "height": 756
        }
      },
      "source": [
        "env = Environment(grid_size=size, max_time=T,temperature=0.3)\n",
        "agent_cnn = DQN_CNN(size, lr=.0001, epsilon = 0.1, memory_size=2000, batch_size = 32)\n",
        "agent_cnn.load(name_weights='cnn_trainmodel.h5',name_model='cnn_trainmodel.json')\n",
        "\n",
        "agent_fc = DQN_FC(size, lr=.0001, epsilon = 0.1, memory_size=2000, batch_size = 32)\n",
        "agent_fc.load(name_weights='fc_trainmodel.h5',name_model='fc_trainmodel.json')\n",
        "print('Test of the CNN')\n",
        "test(agent_cnn,env,epochs_test,prefix='cnn_test')\n",
        "print('Test of the FC')\n",
        "test(agent_fc,env,epochs_test,prefix='fc_test')"
      ],
      "execution_count": 55,
      "outputs": [
        {
          "output_type": "stream",
          "text": [
            "Test of the CNN\n",
            "Win/lose count 14.5/6.0. Average score (8.5)\n",
            "Win/lose count 9.5/1.0. Average score (8.5)\n",
            "Win/lose count 11.0/1.0. Average score (9.0)\n",
            "Win/lose count 17.5/1.0. Average score (10.875)\n",
            "Win/lose count 20.5/2.0. Average score (12.4)\n",
            "Win/lose count 18.5/0. Average score (13.416666666666666)\n",
            "Win/lose count 18.5/3.0. Average score (13.714285714285714)\n",
            "Win/lose count 8.0/3.0. Average score (12.625)\n",
            "Win/lose count 14.0/0. Average score (12.777777777777779)\n",
            "Win/lose count 24.0/3.0. Average score (13.6)\n",
            "Win/lose count 21.5/0. Average score (14.318181818181818)\n",
            "Win/lose count 8.0/0. Average score (13.791666666666666)\n",
            "Win/lose count 13.5/2.0. Average score (13.615384615384615)\n",
            "Win/lose count 11.0/1.0. Average score (13.357142857142858)\n",
            "Win/lose count 18.5/1.0. Average score (13.633333333333333)\n",
            "Win/lose count 16.5/2.0. Average score (13.6875)\n",
            "Win/lose count 22.0/5.0. Average score (13.882352941176471)\n",
            "Win/lose count 22.0/2.0. Average score (14.222222222222221)\n",
            "Win/lose count 9.5/1.0. Average score (13.921052631578947)\n",
            "Win/lose count 23.0/2.0. Average score (14.275)\n",
            "Final score: 14.275\n",
            "Test of the FC\n",
            "Win/lose count 14.0/3.0. Average score (11.0)\n",
            "Win/lose count 17.5/1.0. Average score (13.75)\n",
            "Win/lose count 3.0/1.0. Average score (9.833333333333334)\n",
            "Win/lose count 10.0/1.0. Average score (9.625)\n",
            "Win/lose count 11.5/1.0. Average score (9.8)\n",
            "Win/lose count 11.5/3.0. Average score (9.583333333333334)\n",
            "Win/lose count 5.0/0. Average score (8.928571428571429)\n",
            "Win/lose count 6.5/4.0. Average score (8.125)\n",
            "Win/lose count 14.5/3.0. Average score (8.5)\n",
            "Win/lose count 4.5/0. Average score (8.1)\n",
            "Win/lose count 9.0/6.0. Average score (7.636363636363637)\n",
            "Win/lose count 10.5/2.0. Average score (7.708333333333333)\n",
            "Win/lose count 15.0/1.0. Average score (8.192307692307692)\n",
            "Win/lose count 10.0/3.0. Average score (8.107142857142858)\n",
            "Win/lose count 12.0/2.0. Average score (8.233333333333333)\n",
            "Win/lose count 6.0/3.0. Average score (7.90625)\n",
            "Win/lose count 8.0/2.0. Average score (7.794117647058823)\n",
            "Win/lose count 13.5/2.0. Average score (8.0)\n",
            "Win/lose count 7.5/2.0. Average score (7.868421052631579)\n",
            "Win/lose count 8.5/1.0. Average score (7.85)\n",
            "Final score: 7.85\n"
          ],
          "name": "stdout"
        }
      ]
    },
    {
      "cell_type": "code",
      "metadata": {
        "id": "-AfES4a0MuYR",
        "colab_type": "code",
        "outputId": "94789caf-f215-4a15-c881-12002855e927",
        "colab": {
          "base_uri": "https://localhost:8080/",
          "height": 293
        }
      },
      "source": [
        "HTML(display_videos('cnn_test10.mp4'))"
      ],
      "execution_count": 56,
      "outputs": [
        {
          "output_type": "execute_result",
          "data": {
            "text/html": [
              "<video alt=\"test\" controls>\n",
              "                <source src=\"data:video/mp4;base64,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\" type=\"video/mp4\" />\n",
              "             </video>"
            ],
            "text/plain": [
              "<IPython.core.display.HTML object>"
            ]
          },
          "metadata": {
            "tags": []
          },
          "execution_count": 56
        }
      ]
    },
    {
      "cell_type": "code",
      "metadata": {
        "id": "rUoJxS32MuYT",
        "colab_type": "code",
        "outputId": "3a220909-2ded-4433-804a-eaff76308a0e",
        "colab": {
          "base_uri": "https://localhost:8080/",
          "height": 293
        }
      },
      "source": [
        "HTML(display_videos('fc_test10.mp4'))"
      ],
      "execution_count": 57,
      "outputs": [
        {
          "output_type": "execute_result",
          "data": {
            "text/html": [
              "<video alt=\"test\" controls>\n",
              "                <source src=\"data:video/mp4;base64,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\" type=\"video/mp4\" />\n",
              "             </video>"
            ],
            "text/plain": [
              "<IPython.core.display.HTML object>"
            ]
          },
          "metadata": {
            "tags": []
          },
          "execution_count": 57
        }
      ]
    },
    {
      "cell_type": "markdown",
      "metadata": {
        "id": "vBfvsuQ6MuYV",
        "colab_type": "text"
      },
      "source": [
        "We observe that the convolutionnal network gives significantly better results than the fully connected. \n",
        "\n",
        "However, for both network, it appears the agent can get stucked between poisons or in a zone with no bonus or malus. When in this zone, it does not learn much during training.\n",
        "\n",
        "If the temperature is higher, we have fewer chances to get stuck as the density of bonus or malus is higher. Thus the agent learns better with higher temperature (but he can still be blocked in the test phase)."
      ]
    },
    {
      "cell_type": "markdown",
      "metadata": {
        "id": "Pmmwe1cxMuYW",
        "colab_type": "text"
      },
      "source": [
        "***\n",
        "\n",
        "The algorithm tends to not explore the map which can be an issue. We propose two ideas in order to encourage exploration:\n",
        "1. Incorporating a decreasing $\\epsilon$-greedy exploration. You can use the method ```set_epsilon```\n",
        "2. Append via the environment a new state that describes if a cell has been visited or not\n",
        "\n",
        "***\n",
        "__Question 10__ Design a new ```train_explore``` function and environment class ```EnvironmentExploring``` to tackle the issue of exploration.\n",
        "\n"
      ]
    },
    {
      "cell_type": "code",
      "metadata": {
        "id": "-6oSdKV0MuYX",
        "colab_type": "code",
        "colab": {}
      },
      "source": [
        "def train_explore(agent,env,epoch,prefix='',epsilonInit = 0.9):\n",
        "  # Number of won games\n",
        "    score = 0\n",
        "    loss = 0\n",
        "    # epsilon = epsilonInit\n",
        "    for e in range(epoch):\n",
        "        # if e % 20 == 0 and e>1 :\n",
        "        #   epsilon = epsilon/\n",
        "        #   agent.set_epsilon(epsilon)\n",
        "        epsilon = epsilonInit * max((epoch*0.5-e)/(epoch*0.5),0)\n",
        "        # At each epoch, we restart to a fresh game and get the initial state\n",
        "        state = env.reset()\n",
        "        # This assumes that the games will terminate\n",
        "        game_over = False\n",
        "\n",
        "        win = 0\n",
        "        lose = 0\n",
        "        cheese = 0\n",
        "        poison = 0\n",
        "        while not game_over:\n",
        "            # The agent performs an action\n",
        "            action = agent.act(state)\n",
        "\n",
        "\n",
        "            # Apply an action to the environment, get the next state, the reward\n",
        "            # and if the games end\n",
        "            prev_state = state\n",
        "            state, reward, game_over, rewardWin = env.act(action, train=True)\n",
        "\n",
        "            # Update the counters\n",
        "            if reward > 0:\n",
        "                win = win + reward\n",
        "            if reward < 0:\n",
        "                lose = lose -reward\n",
        "\n",
        "            if rewardWin>0:\n",
        "                cheese = cheese + rewardWin\n",
        "              \n",
        "            if rewardWin<0:\n",
        "                poison = poison-rewardWin\n",
        "\n",
        "            # Apply the reinforcement strategy\n",
        "            loss = agent.reinforce(prev_state, state,  action, reward, game_over)\n",
        "\n",
        "        # Save as a mp4\n",
        "        if e % 10 == 0:\n",
        "            env.draw(prefix+str(e))\n",
        "\n",
        "        # Update stats\n",
        "        score += win-lose\n",
        "\n",
        "        print(\"Epoch {:03d}/{:03d} | Loss {:.4f} | Win/lose count {}/{} ({}) | Cheese/poinson count {}/{} ({})\"\n",
        "              .format(e, epoch, loss, win, lose, win-lose, cheese,poison,cheese-poison))\n",
        "        agent.save(name_weights=prefix+'model.h5',name_model=prefix+'model.json')\n",
        "\n",
        "      \n",
        "class EnvironmentExploring(Environment):\n",
        "    def __init__(self, grid_size=10, max_time=500, temperature=0.1):\n",
        "        Environment.__init__(self,grid_size=grid_size, max_time=max_time, temperature=temperature)\n",
        "        self.malus_position = np.zeros(np.shape(self.position))\n",
        "\n",
        "    def act(self, action,train=False):\n",
        "        # \"\"\"This function returns the new state, reward and decides if the\n",
        "        # game ends.\"\"\"\n",
        "        state, reward, game_over = Environment.act(self,action)\n",
        "        \n",
        "        if train :\n",
        "          rewardWin = reward\n",
        "          reward -= self.malus_position[self.x,self.y]\n",
        "          self.malus_position[self.x, self.y]  += 0.2 # Add a small malus at every visit\n",
        "          # Make sure that malus is under the poison value\n",
        "          self.malus_position[self.x, self.y] = min(self.malus_position[self.x, self.y],0.9)\n",
        "\n",
        "\n",
        "          state = np.concatenate((self.malus_position.reshape(self.grid_size, self.grid_size,1),\n",
        "                                  self.board.reshape(self.grid_size, self.grid_size,1),\n",
        "                          self.position.reshape(self.grid_size, self.grid_size,1)),axis=2)\n",
        "          \n",
        "          state = state[self.x-2:self.x+3,self.y-2:self.y+3,:]\n",
        "\n",
        "          return state, reward, game_over, rewardWin\n",
        "        else :\n",
        "          self.malus_position[self.x, self.y]  += 0.2\n",
        "          self.malus_position[self.x, self.y] = min(self.malus_position[self.x, self.y],0.9)\n",
        "          state = np.concatenate((self.malus_position.reshape(self.grid_size, self.grid_size,1),\n",
        "                                  self.board.reshape(self.grid_size, self.grid_size,1),\n",
        "                          self.position.reshape(self.grid_size, self.grid_size,1)),axis=2)\n",
        "          \n",
        "          state = state[self.x-2:self.x+3,self.y-2:self.y+3,:]\n",
        "          return state, reward, game_over\n",
        "\n",
        "\n",
        "    def reset(self):\n",
        "        \"\"\"This function resets the game and returns the initial state\"\"\"\n",
        "        Environment.reset(self)\n",
        "        self.malus_position = np.zeros(np.shape(self.position))\n",
        "        state = np.concatenate((self.malus_position.reshape(self.grid_size, self.grid_size,1),\n",
        "                                self.board.reshape(self.grid_size, self.grid_size,1),\n",
        "                        self.position.reshape(self.grid_size, self.grid_size,1)),axis=2)\n",
        "\n",
        "        state = state[self.x - 2:self.x + 3, self.y - 2:self.y + 3, :]\n",
        "        return state\n",
        "\n",
        "\n",
        "    def get_frame(self,t):\n",
        "        b = np.zeros((self.grid_size,self.grid_size,3))+128\n",
        "        b[self.malus_position>0, 1] = 256 * self.malus_position[self.malus_position>0]\n",
        "        b[self.board>0,0] = 256\n",
        "        b[self.board < 0, 2] = 256\n",
        "        b[self.x,self.y,:]=256\n",
        "        b[-2:,:,:]=0\n",
        "        b[:,-2:,:]=0\n",
        "        b[:2,:,:]=0\n",
        "        b[:,:2,:]=0\n",
        "        \n",
        "        b =  cv2.resize(b, None, fx=self.scale, fy=self.scale, interpolation=cv2.INTER_NEAREST)\n",
        "\n",
        "        self.to_draw[t,:,:,:]=b\n",
        "\n",
        "    \n",
        "    "
      ],
      "execution_count": 0,
      "outputs": []
    },
    {
      "cell_type": "code",
      "metadata": {
        "id": "n-lcyprvMuYc",
        "colab_type": "code",
        "outputId": "901ee17f-4183-4975-b8b5-ca76aa78c837",
        "colab": {
          "base_uri": "https://localhost:8080/",
          "height": 1000
        }
      },
      "source": [
        "# Training\n",
        "env = EnvironmentExploring(grid_size=size, max_time=T, temperature=0.3)\n",
        "agent = DQN_CNN(size, lr=.0001, epsilon = 0.1, memory_size=4000, batch_size = 256,n_state=3)\n",
        "train_explore(agent, env, 100, prefix='cnn_train_explore',epsilonInit= 0.9)\n",
        "HTML(display_videos('cnn_train_explore10.mp4'))"
      ],
      "execution_count": 63,
      "outputs": [
        {
          "output_type": "stream",
          "text": [
            "Epoch 000/100 | Loss 0.0784 | Win/lose count 6.5/113.80000000000021 (-107.30000000000021) | Cheese/poinson count 6.5/9.0 (-2.5)\n",
            "Epoch 001/100 | Loss 0.0278 | Win/lose count 14.5/61.49999999999998 (-46.99999999999998) | Cheese/poinson count 14.5/16.0 (-1.5)\n",
            "Epoch 002/100 | Loss 0.0286 | Win/lose count 12.0/74.60000000000002 (-62.60000000000002) | Cheese/poinson count 12.0/15.0 (-3.0)\n",
            "Epoch 003/100 | Loss 0.0271 | Win/lose count 15.0/42.599999999999966 (-27.599999999999966) | Cheese/poinson count 15.0/6.0 (9.0)\n",
            "Epoch 004/100 | Loss 0.0261 | Win/lose count 21.5/38.799999999999955 (-17.299999999999955) | Cheese/poinson count 21.5/5.0 (16.5)\n",
            "Epoch 005/100 | Loss 0.0235 | Win/lose count 26.5/29.999999999999957 (-3.4999999999999574) | Cheese/poinson count 26.5/7.0 (19.5)\n",
            "Epoch 006/100 | Loss 0.0483 | Win/lose count 14.0/57.49999999999993 (-43.49999999999993) | Cheese/poinson count 14.0/7.0 (7.0)\n",
            "Epoch 007/100 | Loss 0.0327 | Win/lose count 27.0/25.199999999999967 (1.8000000000000327) | Cheese/poinson count 27.0/7.0 (20.0)\n",
            "Epoch 008/100 | Loss 0.0419 | Win/lose count 24.5/40.20000000000001 (-15.70000000000001) | Cheese/poinson count 24.5/5.0 (19.5)\n",
            "Epoch 009/100 | Loss 0.0321 | Win/lose count 18.0/43.09999999999996 (-25.09999999999996) | Cheese/poinson count 18.0/6.0 (12.0)\n",
            "Epoch 010/100 | Loss 0.0451 | Win/lose count 18.5/41.29999999999999 (-22.79999999999999) | Cheese/poinson count 18.5/9.0 (9.5)\n",
            "Epoch 011/100 | Loss 0.0503 | Win/lose count 17.5/23.79999999999998 (-6.299999999999979) | Cheese/poinson count 17.5/6.0 (11.5)\n",
            "Epoch 012/100 | Loss 0.0430 | Win/lose count 20.5/23.399999999999974 (-2.8999999999999737) | Cheese/poinson count 20.5/5.0 (15.5)\n",
            "Epoch 013/100 | Loss 0.0504 | Win/lose count 24.0/32.39999999999997 (-8.39999999999997) | Cheese/poinson count 24.0/8.0 (16.0)\n",
            "Epoch 014/100 | Loss 0.0421 | Win/lose count 24.0/28.99999999999996 (-4.999999999999961) | Cheese/poinson count 24.0/9.0 (15.0)\n",
            "Epoch 015/100 | Loss 0.0482 | Win/lose count 26.5/35.79999999999999 (-9.29999999999999) | Cheese/poinson count 26.5/14.0 (12.5)\n",
            "Epoch 016/100 | Loss 0.0418 | Win/lose count 22.5/25.599999999999962 (-3.0999999999999623) | Cheese/poinson count 22.5/7.0 (15.5)\n",
            "Epoch 017/100 | Loss 0.0376 | Win/lose count 25.0/33.99999999999996 (-8.999999999999957) | Cheese/poinson count 25.0/14.0 (11.0)\n",
            "Epoch 018/100 | Loss 0.0509 | Win/lose count 23.0/40.10000000000004 (-17.100000000000037) | Cheese/poinson count 23.0/15.0 (8.0)\n",
            "Epoch 019/100 | Loss 0.0397 | Win/lose count 24.5/36.400000000000006 (-11.900000000000006) | Cheese/poinson count 24.5/17.0 (7.5)\n",
            "Epoch 020/100 | Loss 0.0530 | Win/lose count 22.5/27.199999999999964 (-4.699999999999964) | Cheese/poinson count 22.5/9.0 (13.5)\n",
            "Epoch 021/100 | Loss 0.0490 | Win/lose count 22.0/39.400000000000006 (-17.400000000000006) | Cheese/poinson count 22.0/14.0 (8.0)\n",
            "Epoch 022/100 | Loss 0.0512 | Win/lose count 24.5/42.39999999999995 (-17.89999999999995) | Cheese/poinson count 24.5/11.0 (13.5)\n",
            "Epoch 023/100 | Loss 0.0477 | Win/lose count 19.5/43.39999999999999 (-23.89999999999999) | Cheese/poinson count 19.5/21.0 (-1.5)\n",
            "Epoch 024/100 | Loss 0.0430 | Win/lose count 27.0/25.59999999999997 (1.4000000000000306) | Cheese/poinson count 27.0/9.0 (18.0)\n",
            "Epoch 025/100 | Loss 0.0542 | Win/lose count 21.0/34.89999999999998 (-13.899999999999977) | Cheese/poinson count 21.0/14.0 (7.0)\n",
            "Epoch 026/100 | Loss 0.0538 | Win/lose count 23.0/33.39999999999997 (-10.39999999999997) | Cheese/poinson count 23.0/15.0 (8.0)\n",
            "Epoch 027/100 | Loss 0.0598 | Win/lose count 24.5/32.39999999999997 (-7.89999999999997) | Cheese/poinson count 24.5/14.0 (10.5)\n",
            "Epoch 028/100 | Loss 0.0540 | Win/lose count 24.0/30.799999999999955 (-6.7999999999999545) | Cheese/poinson count 24.0/9.0 (15.0)\n",
            "Epoch 029/100 | Loss 0.0519 | Win/lose count 21.5/31.599999999999966 (-10.099999999999966) | Cheese/poinson count 21.5/14.0 (7.5)\n",
            "Epoch 030/100 | Loss 0.0549 | Win/lose count 21.0/37.69999999999995 (-16.699999999999953) | Cheese/poinson count 21.0/16.0 (5.0)\n",
            "Epoch 031/100 | Loss 0.0590 | Win/lose count 21.5/33.19999999999996 (-11.69999999999996) | Cheese/poinson count 21.5/14.0 (7.5)\n",
            "Epoch 032/100 | Loss 0.0650 | Win/lose count 22.5/26.79999999999997 (-4.299999999999969) | Cheese/poinson count 22.5/10.0 (12.5)\n",
            "Epoch 033/100 | Loss 0.0652 | Win/lose count 24.5/37.599999999999994 (-13.099999999999994) | Cheese/poinson count 24.5/17.0 (7.5)\n",
            "Epoch 034/100 | Loss 0.0573 | Win/lose count 21.5/26.799999999999976 (-5.299999999999976) | Cheese/poinson count 21.5/8.0 (13.5)\n",
            "Epoch 035/100 | Loss 0.0543 | Win/lose count 20.0/31.199999999999953 (-11.199999999999953) | Cheese/poinson count 20.0/10.0 (10.0)\n",
            "Epoch 036/100 | Loss 0.0645 | Win/lose count 22.0/33.99999999999998 (-11.999999999999979) | Cheese/poinson count 22.0/13.0 (9.0)\n",
            "Epoch 037/100 | Loss 0.0469 | Win/lose count 26.0/32.999999999999964 (-6.9999999999999645) | Cheese/poinson count 26.0/13.0 (13.0)\n",
            "Epoch 038/100 | Loss 0.0636 | Win/lose count 23.5/30.19999999999997 (-6.699999999999971) | Cheese/poinson count 23.5/10.0 (13.5)\n",
            "Epoch 039/100 | Loss 0.0477 | Win/lose count 17.0/36.59999999999996 (-19.59999999999996) | Cheese/poinson count 17.0/10.0 (7.0)\n",
            "Epoch 040/100 | Loss 0.0637 | Win/lose count 24.0/37.59999999999998 (-13.59999999999998) | Cheese/poinson count 24.0/17.0 (7.0)\n",
            "Epoch 041/100 | Loss 0.0690 | Win/lose count 24.0/43.09999999999997 (-19.099999999999973) | Cheese/poinson count 24.0/16.0 (8.0)\n",
            "Epoch 042/100 | Loss 0.0745 | Win/lose count 24.5/27.999999999999957 (-3.4999999999999574) | Cheese/poinson count 24.5/7.0 (17.5)\n",
            "Epoch 043/100 | Loss 0.0542 | Win/lose count 25.0/34.599999999999966 (-9.599999999999966) | Cheese/poinson count 25.0/14.0 (11.0)\n",
            "Epoch 044/100 | Loss 0.0570 | Win/lose count 24.5/31.79999999999997 (-7.299999999999969) | Cheese/poinson count 24.5/12.0 (12.5)\n",
            "Epoch 045/100 | Loss 0.0692 | Win/lose count 25.5/29.09999999999997 (-3.5999999999999694) | Cheese/poinson count 25.5/8.0 (17.5)\n",
            "Epoch 046/100 | Loss 0.0636 | Win/lose count 19.0/31.199999999999967 (-12.199999999999967) | Cheese/poinson count 19.0/13.0 (6.0)\n",
            "Epoch 047/100 | Loss 0.0538 | Win/lose count 19.0/32.59999999999997 (-13.599999999999973) | Cheese/poinson count 19.0/12.0 (7.0)\n",
            "Epoch 048/100 | Loss 0.0601 | Win/lose count 25.0/35.999999999999986 (-10.999999999999986) | Cheese/poinson count 25.0/11.0 (14.0)\n",
            "Epoch 049/100 | Loss 0.0567 | Win/lose count 23.5/29.999999999999957 (-6.499999999999957) | Cheese/poinson count 23.5/10.0 (13.5)\n",
            "Epoch 050/100 | Loss 0.0606 | Win/lose count 21.0/34.99999999999998 (-13.999999999999979) | Cheese/poinson count 21.0/17.0 (4.0)\n",
            "Epoch 051/100 | Loss 0.0651 | Win/lose count 19.5/33.39999999999997 (-13.89999999999997) | Cheese/poinson count 19.5/13.0 (6.5)\n",
            "Epoch 052/100 | Loss 0.0609 | Win/lose count 25.0/34.39999999999998 (-9.399999999999977) | Cheese/poinson count 25.0/16.0 (9.0)\n",
            "Epoch 053/100 | Loss 0.0563 | Win/lose count 20.5/29.799999999999958 (-9.299999999999958) | Cheese/poinson count 20.5/13.0 (7.5)\n",
            "Epoch 054/100 | Loss 0.0551 | Win/lose count 28.5/31.799999999999972 (-3.2999999999999723) | Cheese/poinson count 28.5/14.0 (14.5)\n",
            "Epoch 055/100 | Loss 0.0563 | Win/lose count 22.0/33.39999999999996 (-11.399999999999963) | Cheese/poinson count 22.0/18.0 (4.0)\n",
            "Epoch 056/100 | Loss 0.0559 | Win/lose count 18.0/41.399999999999984 (-23.399999999999984) | Cheese/poinson count 18.0/18.0 (0.0)\n",
            "Epoch 057/100 | Loss 0.0508 | Win/lose count 25.0/29.59999999999997 (-4.5999999999999694) | Cheese/poinson count 25.0/13.0 (12.0)\n",
            "Epoch 058/100 | Loss 0.0436 | Win/lose count 22.0/32.49999999999998 (-10.499999999999979) | Cheese/poinson count 22.0/8.0 (14.0)\n",
            "Epoch 059/100 | Loss 0.0495 | Win/lose count 25.0/26.99999999999996 (-1.999999999999961) | Cheese/poinson count 25.0/11.0 (14.0)\n",
            "Epoch 060/100 | Loss 0.0606 | Win/lose count 25.5/29.59999999999996 (-4.099999999999959) | Cheese/poinson count 25.5/10.0 (15.5)\n",
            "Epoch 061/100 | Loss 0.0627 | Win/lose count 27.0/31.699999999999974 (-4.699999999999974) | Cheese/poinson count 27.0/10.0 (17.0)\n",
            "Epoch 062/100 | Loss 0.0609 | Win/lose count 22.0/28.399999999999967 (-6.399999999999967) | Cheese/poinson count 22.0/8.0 (14.0)\n",
            "Epoch 063/100 | Loss 0.0551 | Win/lose count 24.0/30.599999999999962 (-6.599999999999962) | Cheese/poinson count 24.0/11.0 (13.0)\n",
            "Epoch 064/100 | Loss 0.0675 | Win/lose count 24.5/32.399999999999984 (-7.899999999999984) | Cheese/poinson count 24.5/6.0 (18.5)\n",
            "Epoch 065/100 | Loss 0.0734 | Win/lose count 25.5/27.59999999999996 (-2.099999999999959) | Cheese/poinson count 25.5/8.0 (17.5)\n",
            "Epoch 066/100 | Loss 0.0628 | Win/lose count 20.0/34.199999999999974 (-14.199999999999974) | Cheese/poinson count 20.0/12.0 (8.0)\n",
            "Epoch 067/100 | Loss 0.0551 | Win/lose count 21.5/32.99999999999998 (-11.499999999999979) | Cheese/poinson count 21.5/14.0 (7.5)\n",
            "Epoch 068/100 | Loss 0.0576 | Win/lose count 21.0/28.399999999999952 (-7.399999999999952) | Cheese/poinson count 21.0/12.0 (9.0)\n",
            "Epoch 069/100 | Loss 0.0664 | Win/lose count 25.5/30.599999999999962 (-5.099999999999962) | Cheese/poinson count 25.5/10.0 (15.5)\n",
            "Epoch 070/100 | Loss 0.0607 | Win/lose count 22.0/25.599999999999977 (-3.5999999999999766) | Cheese/poinson count 22.0/8.0 (14.0)\n",
            "Epoch 071/100 | Loss 0.0637 | Win/lose count 21.0/29.39999999999996 (-8.39999999999996) | Cheese/poinson count 21.0/12.0 (9.0)\n",
            "Epoch 072/100 | Loss 0.0638 | Win/lose count 20.0/30.59999999999997 (-10.59999999999997) | Cheese/poinson count 20.0/9.0 (11.0)\n",
            "Epoch 073/100 | Loss 0.0685 | Win/lose count 23.5/34.89999999999998 (-11.399999999999977) | Cheese/poinson count 23.5/11.0 (12.5)\n",
            "Epoch 074/100 | Loss 0.0617 | Win/lose count 21.0/31.199999999999967 (-10.199999999999967) | Cheese/poinson count 21.0/10.0 (11.0)\n",
            "Epoch 075/100 | Loss 0.0624 | Win/lose count 19.5/29.599999999999948 (-10.099999999999948) | Cheese/poinson count 19.5/10.0 (9.5)\n",
            "Epoch 076/100 | Loss 0.0663 | Win/lose count 22.5/32.199999999999974 (-9.699999999999974) | Cheese/poinson count 22.5/14.0 (8.5)\n",
            "Epoch 077/100 | Loss 0.0759 | Win/lose count 24.5/41.299999999999976 (-16.799999999999976) | Cheese/poinson count 24.5/18.0 (6.5)\n",
            "Epoch 078/100 | Loss 0.0663 | Win/lose count 20.0/28.399999999999967 (-8.399999999999967) | Cheese/poinson count 20.0/15.0 (5.0)\n",
            "Epoch 079/100 | Loss 0.0626 | Win/lose count 20.5/29.599999999999966 (-9.099999999999966) | Cheese/poinson count 20.5/6.0 (14.5)\n",
            "Epoch 080/100 | Loss 0.0635 | Win/lose count 22.0/25.59999999999997 (-3.5999999999999694) | Cheese/poinson count 22.0/9.0 (13.0)\n",
            "Epoch 081/100 | Loss 0.0473 | Win/lose count 24.5/27.399999999999967 (-2.8999999999999666) | Cheese/poinson count 24.5/8.0 (16.5)\n",
            "Epoch 082/100 | Loss 0.0573 | Win/lose count 23.5/29.999999999999957 (-6.499999999999957) | Cheese/poinson count 23.5/13.0 (10.5)\n",
            "Epoch 083/100 | Loss 0.0597 | Win/lose count 28.0/29.199999999999967 (-1.1999999999999673) | Cheese/poinson count 28.0/9.0 (19.0)\n",
            "Epoch 084/100 | Loss 0.0550 | Win/lose count 24.5/29.799999999999972 (-5.299999999999972) | Cheese/poinson count 24.5/11.0 (13.5)\n",
            "Epoch 085/100 | Loss 0.0610 | Win/lose count 20.5/37.199999999999974 (-16.699999999999974) | Cheese/poinson count 20.5/12.0 (8.5)\n",
            "Epoch 086/100 | Loss 0.0648 | Win/lose count 25.5/35.699999999999974 (-10.199999999999974) | Cheese/poinson count 25.5/11.0 (14.5)\n",
            "Epoch 087/100 | Loss 0.0676 | Win/lose count 22.5/31.199999999999953 (-8.699999999999953) | Cheese/poinson count 22.5/13.0 (9.5)\n",
            "Epoch 088/100 | Loss 0.0488 | Win/lose count 23.0/31.999999999999964 (-8.999999999999964) | Cheese/poinson count 23.0/11.0 (12.0)\n",
            "Epoch 089/100 | Loss 0.0576 | Win/lose count 24.5/33.799999999999976 (-9.299999999999976) | Cheese/poinson count 24.5/16.0 (8.5)\n",
            "Epoch 090/100 | Loss 0.0563 | Win/lose count 19.0/69.99999999999996 (-50.99999999999996) | Cheese/poinson count 19.0/11.0 (8.0)\n",
            "Epoch 091/100 | Loss 0.0586 | Win/lose count 21.0/26.799999999999958 (-5.799999999999958) | Cheese/poinson count 21.0/5.0 (16.0)\n",
            "Epoch 092/100 | Loss 0.0483 | Win/lose count 27.0/30.199999999999974 (-3.1999999999999744) | Cheese/poinson count 27.0/9.0 (18.0)\n",
            "Epoch 093/100 | Loss 0.0589 | Win/lose count 25.0/33.399999999999984 (-8.399999999999984) | Cheese/poinson count 25.0/14.0 (11.0)\n",
            "Epoch 094/100 | Loss 0.0493 | Win/lose count 23.5/30.79999999999996 (-7.299999999999962) | Cheese/poinson count 23.5/12.0 (11.5)\n",
            "Epoch 095/100 | Loss 0.0723 | Win/lose count 26.0/28.199999999999964 (-2.1999999999999638) | Cheese/poinson count 26.0/10.0 (16.0)\n",
            "Epoch 096/100 | Loss 0.0603 | Win/lose count 23.0/25.99999999999997 (-2.9999999999999716) | Cheese/poinson count 23.0/10.0 (13.0)\n",
            "Epoch 097/100 | Loss 0.0518 | Win/lose count 22.0/32.599999999999966 (-10.599999999999966) | Cheese/poinson count 22.0/14.0 (8.0)\n",
            "Epoch 098/100 | Loss 0.0463 | Win/lose count 23.5/38.89999999999999 (-15.399999999999991) | Cheese/poinson count 23.5/7.0 (16.5)\n",
            "Epoch 099/100 | Loss 0.0623 | Win/lose count 25.5/27.599999999999962 (-2.0999999999999623) | Cheese/poinson count 25.5/10.0 (15.5)\n"
          ],
          "name": "stdout"
        },
        {
          "output_type": "execute_result",
          "data": {
            "text/html": [
              "<video alt=\"test\" controls>\n",
              "                <source src=\"data:video/mp4;base64,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\" type=\"video/mp4\" />\n",
              "             </video>"
            ],
            "text/plain": [
              "<IPython.core.display.HTML object>"
            ]
          },
          "metadata": {
            "tags": []
          },
          "execution_count": 63
        }
      ]
    },
    {
      "cell_type": "code",
      "metadata": {
        "id": "YwrNyc5tMuYf",
        "colab_type": "code",
        "outputId": "ba1f628f-4e9c-4d71-c300-2798a10c85db",
        "colab": {
          "base_uri": "https://localhost:8080/",
          "height": 646
        }
      },
      "source": [
        "# Evaluation\n",
        "test(agent,env,epochs_test,prefix='cnn_test_explore')\n",
        "HTML(display_videos('cnn_test_explore1.mp4'))"
      ],
      "execution_count": 64,
      "outputs": [
        {
          "output_type": "stream",
          "text": [
            "Win/lose count 22.5/10.0. Average score (12.5)\n",
            "Win/lose count 24.5/11.0. Average score (13.0)\n",
            "Win/lose count 21.0/7.0. Average score (13.333333333333334)\n",
            "Win/lose count 20.5/13.0. Average score (11.875)\n",
            "Win/lose count 24.5/11.0. Average score (12.2)\n",
            "Win/lose count 23.5/9.0. Average score (12.583333333333334)\n",
            "Win/lose count 26.0/10.0. Average score (13.071428571428571)\n",
            "Win/lose count 22.5/6.0. Average score (13.5)\n",
            "Win/lose count 25.5/5.0. Average score (14.277777777777779)\n",
            "Win/lose count 27.0/2.0. Average score (15.35)\n",
            "Win/lose count 22.5/6.0. Average score (15.454545454545455)\n",
            "Win/lose count 26.5/6.0. Average score (15.875)\n",
            "Win/lose count 15.0/4.0. Average score (15.5)\n",
            "Win/lose count 23.5/3.0. Average score (15.857142857142858)\n",
            "Win/lose count 21.5/6.0. Average score (15.833333333333334)\n",
            "Win/lose count 18.5/1.0. Average score (15.9375)\n",
            "Win/lose count 24.0/4.0. Average score (16.176470588235293)\n",
            "Win/lose count 22.5/2.0. Average score (16.416666666666668)\n",
            "Win/lose count 24.0/5.0. Average score (16.55263157894737)\n",
            "Win/lose count 22.5/3.0. Average score (16.7)\n",
            "Final score: 16.7\n"
          ],
          "name": "stdout"
        },
        {
          "output_type": "execute_result",
          "data": {
            "text/html": [
              "<video alt=\"test\" controls>\n",
              "                <source src=\"data:video/mp4;base64,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\" type=\"video/mp4\" />\n",
              "             </video>"
            ],
            "text/plain": [
              "<IPython.core.display.HTML object>"
            ]
          },
          "metadata": {
            "tags": []
          },
          "execution_count": 64
        }
      ]
    },
    {
      "cell_type": "markdown",
      "metadata": {
        "id": "2vKVTQNrGmpY",
        "colab_type": "text"
      },
      "source": [
        "Rather than just setting a value once for the visited position, we add a small malus for every visit (but make sure that this value is below the poison malus). \n",
        "\n",
        "This method improved the results obtained with the CNN."
      ]
    },
    {
      "cell_type": "markdown",
      "metadata": {
        "id": "XtF79ISQMuYj",
        "colab_type": "text"
      },
      "source": [
        "***\n",
        "***\n",
        "__BONUS question__ Use the expert DQN from the previous question to generate some winning games. Train a model that mimicks its behavior. Compare the performances."
      ]
    },
    {
      "cell_type": "markdown",
      "metadata": {
        "id": "Gv2BQmK0MuYk",
        "colab_type": "text"
      },
      "source": [
        "***"
      ]
    },
    {
      "cell_type": "code",
      "metadata": {
        "id": "m3l0vsgWQb_s",
        "colab_type": "code",
        "colab": {}
      },
      "source": [
        ""
      ],
      "execution_count": 0,
      "outputs": []
    }
  ]
}